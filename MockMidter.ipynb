{
 "nbformat": 4,
 "nbformat_minor": 2,
 "metadata": {
  "language_info": {
   "name": "python",
   "codemirror_mode": {
    "name": "ipython",
    "version": 3
   },
   "version": "3.8.1-final"
  },
  "orig_nbformat": 2,
  "file_extension": ".py",
  "mimetype": "text/x-python",
  "name": "python",
  "npconvert_exporter": "python",
  "pygments_lexer": "ipython3",
  "version": 3,
  "kernelspec": {
   "name": "python3",
   "display_name": "Python 3"
  }
 },
 "cells": [
  {
   "cell_type": "code",
   "execution_count": 3,
   "metadata": {},
   "outputs": [],
   "source": [
    "import numpy as np \n",
    "import pandas as pd \n",
    "import requests\n",
    "from bs4 import BeautifulSoup\n",
    "import pandas as pd\n",
    "import tqdm as tqdm\n",
    "from lxml import html\n",
    "import matplotlib.pyplot as plt\n",
    "import time"
   ]
  },
  {
   "cell_type": "code",
   "execution_count": 6,
   "metadata": {},
   "outputs": [],
   "source": [
    "bf = getSoup('https://en.wikipedia.org/wiki/20th_Century%27s_Greatest_Hits:_100_English-Language_Books_of_Fiction')"
   ]
  },
  {
   "cell_type": "code",
   "execution_count": 83,
   "metadata": {},
   "outputs": [
    {
     "output_type": "execute_result",
     "data": {
      "text/plain": "[<a href=\"/wiki/Nineteen_Eighty-Four\" title=\"Nineteen Eighty-Four\">1984</a>,\n <a href=\"/wiki/The_Ambassadors\" title=\"The Ambassadors\">The Ambassadors</a>,\n <a href=\"/wiki/An_American_Tragedy\" title=\"An American Tragedy\">An American Tragedy</a>,\n <a href=\"/wiki/Brave_New_World\" title=\"Brave New World\">Brave New World</a>,\n <a href=\"/wiki/Catch-22\" title=\"Catch-22\">Catch-22</a>,\n <a href=\"/wiki/The_Catcher_in_the_Rye\" title=\"The Catcher in the Rye\">The Catcher in the Rye</a>,\n <a href=\"/wiki/A_Clockwork_Orange_(novel)\" title=\"A Clockwork Orange (novel)\">A Clockwork Orange</a>,\n <a href=\"/wiki/The_Day_of_the_Locust\" title=\"The Day of the Locust\">The Day of the Locust</a>,\n <a href=\"/wiki/Finnegans_Wake\" title=\"Finnegans Wake\">Finnegans Wake</a>,\n <a href=\"/wiki/The_Grapes_of_Wrath\" title=\"The Grapes of Wrath\">The Grapes of Wrath</a>,\n <a href=\"/wiki/The_Great_Gatsby\" title=\"The Great Gatsby\">The Great Gatsby</a>,\n <a href=\"/wiki/Heart_of_Darkness\" title=\"Heart of Darkness\">Heart of Darkness</a>,\n <a href=\"/wiki/The_House_of_Mirth\" title=\"The House of Mirth\">The House of Mirth</a>,\n <a href=\"/wiki/Invisible_Man\" title=\"Invisible Man\">Invisible Man</a>,\n <a href=\"/wiki/Ironweed_(novel)\" title=\"Ironweed (novel)\">Ironweed</a>,\n <a href=\"/wiki/Lolita\" title=\"Lolita\">Lolita</a>,\n <a href=\"/wiki/Midnight%27s_Children\" title=\"Midnight's Children\">Midnight's Children</a>,\n <a href=\"/wiki/The_Naked_and_the_Dead\" title=\"The Naked and the Dead\">The Naked and the Dead</a>,\n <a href=\"/wiki/Native_Son\" title=\"Native Son\">Native Son</a>,\n <a href=\"/wiki/On_the_Road\" title=\"On the Road\">On the Road</a>,\n <a href=\"/wiki/Pale_Fire\" title=\"Pale Fire\">Pale Fire</a>,\n <a href=\"/wiki/A_Passage_to_India\" title=\"A Passage to India\">A Passage to India</a>,\n <a href=\"/wiki/A_Portrait_of_the_Artist_as_a_Young_Man\" title=\"A Portrait of the Artist as a Young Man\">A Portrait of the Artist as a Young Man</a>,\n <a href=\"/wiki/The_Sheltering_Sky\" title=\"The Sheltering Sky\">The Sheltering Sky</a>,\n <a href=\"/wiki/Slaughterhouse-Five\" title=\"Slaughterhouse-Five\">Slaughterhouse-Five</a>,\n <a href=\"/wiki/The_Sound_and_the_Fury\" title=\"The Sound and the Fury\">The Sound and the Fury</a>,\n <a href=\"/wiki/The_Sun_Also_Rises\" title=\"The Sun Also Rises\">The Sun Also Rises</a>,\n <a href=\"/wiki/To_the_Lighthouse\" title=\"To the Lighthouse\">To the Lighthouse</a>,\n <a href=\"/wiki/Tropic_of_Cancer_(novel)\" title=\"Tropic of Cancer (novel)\">Tropic of Cancer</a>,\n <a href=\"/wiki/Ulysses_(novel)\" title=\"Ulysses (novel)\">Ulysses</a>,\n <a href=\"/wiki/Under_the_Volcano\" title=\"Under the Volcano\">Under the Volcano</a>,\n <a href=\"/wiki/U.S.A._(trilogy)\" title=\"U.S.A. (trilogy)\">The USA Trilogy</a>,\n <a href=\"/wiki/Winesburg,_Ohio\" title=\"Winesburg, Ohio\">Winesburg, Ohio</a>,\n <a href=\"/wiki/Women_in_Love\" title=\"Women in Love\">Women in Love</a>]"
     },
     "metadata": {},
     "execution_count": 83
    }
   ],
   "source": [
    "bf.find('div', {'id': 'mw-content-text'}).find_next('ol').find('a').text\n",
    "links"
   ]
  },
  {
   "cell_type": "code",
   "execution_count": 89,
   "metadata": {},
   "outputs": [
    {
     "output_type": "execute_result",
     "data": {
      "text/plain": "'/wiki/Nineteen_Eighty-Four'"
     },
     "metadata": {},
     "execution_count": 89
    }
   ],
   "source": [
    "links[0]['href']"
   ]
  },
  {
   "cell_type": "code",
   "execution_count": 92,
   "metadata": {},
   "outputs": [
    {
     "output_type": "execute_result",
     "data": {
      "text/plain": "['en.wikipedia.org/wiki/Nineteen_Eighty-Four',\n 'en.wikipedia.org/wiki/The_Ambassadors',\n 'en.wikipedia.org/wiki/An_American_Tragedy',\n 'en.wikipedia.org/wiki/Brave_New_World',\n 'en.wikipedia.org/wiki/Catch-22',\n 'en.wikipedia.org/wiki/The_Catcher_in_the_Rye',\n 'en.wikipedia.org/wiki/A_Clockwork_Orange_(novel)',\n 'en.wikipedia.org/wiki/The_Day_of_the_Locust',\n 'en.wikipedia.org/wiki/Finnegans_Wake',\n 'en.wikipedia.org/wiki/The_Grapes_of_Wrath',\n 'en.wikipedia.org/wiki/The_Great_Gatsby',\n 'en.wikipedia.org/wiki/Heart_of_Darkness',\n 'en.wikipedia.org/wiki/The_House_of_Mirth',\n 'en.wikipedia.org/wiki/Invisible_Man',\n 'en.wikipedia.org/wiki/Ironweed_(novel)',\n 'en.wikipedia.org/wiki/Lolita',\n 'en.wikipedia.org/wiki/Midnight%27s_Children',\n 'en.wikipedia.org/wiki/The_Naked_and_the_Dead',\n 'en.wikipedia.org/wiki/Native_Son',\n 'en.wikipedia.org/wiki/On_the_Road',\n 'en.wikipedia.org/wiki/Pale_Fire',\n 'en.wikipedia.org/wiki/A_Passage_to_India',\n 'en.wikipedia.org/wiki/A_Portrait_of_the_Artist_as_a_Young_Man',\n 'en.wikipedia.org/wiki/The_Sheltering_Sky',\n 'en.wikipedia.org/wiki/Slaughterhouse-Five',\n 'en.wikipedia.org/wiki/The_Sound_and_the_Fury',\n 'en.wikipedia.org/wiki/The_Sun_Also_Rises',\n 'en.wikipedia.org/wiki/To_the_Lighthouse',\n 'en.wikipedia.org/wiki/Tropic_of_Cancer_(novel)',\n 'en.wikipedia.org/wiki/Ulysses_(novel)',\n 'en.wikipedia.org/wiki/Under_the_Volcano',\n 'en.wikipedia.org/wiki/U.S.A._(trilogy)',\n 'en.wikipedia.org/wiki/Winesburg,_Ohio',\n 'en.wikipedia.org/wiki/Women_in_Love']"
     },
     "metadata": {},
     "execution_count": 92
    }
   ],
   "source": [
    "['en.wikipedia.org' + li['href'] for li in links]"
   ]
  },
  {
   "cell_type": "code",
   "execution_count": 25,
   "metadata": {},
   "outputs": [
    {
     "output_type": "execute_result",
     "data": {
      "text/plain": "'1984'"
     },
     "metadata": {},
     "execution_count": 25
    }
   ],
   "source": [
    "bf.find('div', {'id': 'mw-content-text'}).find_next('ol').find('a').text"
   ]
  },
  {
   "cell_type": "code",
   "execution_count": 27,
   "metadata": {},
   "outputs": [],
   "source": [
    "name_list = [li.text for li in links]"
   ]
  },
  {
   "cell_type": "code",
   "execution_count": 30,
   "metadata": {},
   "outputs": [],
   "source": [
    "bf_book = getSoup('https://en.wikipedia.org/wiki/Nineteen_Eighty-Four')"
   ]
  },
  {
   "cell_type": "code",
   "execution_count": 44,
   "metadata": {},
   "outputs": [
    {
     "output_type": "execute_result",
     "data": {
      "text/plain": "'George Orwell'"
     },
     "metadata": {},
     "execution_count": 44
    }
   ],
   "source": [
    "bf_book.find('div', {'id':'mw-content-text'}).find('table', {'class':'infobox vcard'}).find('tbody').find(text = 'Author').find_next('td').text"
   ]
  },
  {
   "cell_type": "code",
   "execution_count": 46,
   "metadata": {},
   "outputs": [
    {
     "output_type": "execute_result",
     "data": {
      "text/plain": "'328'"
     },
     "metadata": {},
     "execution_count": 46
    }
   ],
   "source": [
    "bf_book.find('div', {'id':'mw-content-text'}).find('table', {'class':'infobox vcard'}).find('tbody').find(text = 'Pages').find_next('td').text"
   ]
  },
  {
   "cell_type": "code",
   "execution_count": 47,
   "metadata": {},
   "outputs": [
    {
     "output_type": "execute_result",
     "data": {
      "text/plain": "'Secker & Warburg\\n8\\xa0June 1949; 70 years ago\\xa0(1949-06-08)'"
     },
     "metadata": {},
     "execution_count": 47
    }
   ],
   "source": [
    "bf_book.find('div', {'id':'mw-content-text'}).find('table', {'class':'infobox vcard'}).find('tbody').find(text = 'Publisher').find_next('td').text"
   ]
  },
  {
   "cell_type": "code",
   "execution_count": 31,
   "metadata": {},
   "outputs": [],
   "source": [
    "class BookChecker: \n",
    "    '''\n",
    "    Getting infos from webpage \n",
    "    '''\n",
    "    def __init__(self, link):\n",
    "        '''\n",
    "        Input link to search Author, Number of Pages and Publish info\n",
    "        '''\n",
    "        self.link = link\n",
    "\n",
    "    def getSoup(self):\n",
    "        r = requests.get(self.link)\n",
    "        r.encoding = 'UTF-8'\n",
    "        return BeautifulSoup(r.text, 'lxml')\n",
    "    \n",
    "    def getAuthor(self):\n",
    "        bf = self.getSoup()\n",
    "        try: \n",
    "            author =  bf.find('div', {'id':'mw-content-text'}).find('table', {'class':'infobox vcard'}).find('tbody').find(text = 'Author').find_next('td').text \n",
    "        except: author = \"–\" \n",
    "        return author\n",
    "\n",
    "    def getPages(self):\n",
    "        bf = self.getSoup()\n",
    "        try:\n",
    "            pages = bf.find('div', {'id':'mw-content-text'}).find('table', {'class':'infobox vcard'}).find('tbody').find(text = 'Pages').find_next('td').text \n",
    "        except: pages =  '-'\n",
    "        return pages\n",
    "    \n",
    "    def getPublish(self):\n",
    "        bf = self.getSoup()\n",
    "        try: publish = bf.find('div', {'id':'mw-content-text'}).find('table', {'class':'infobox vcard'}).find('tbody').find(text = 'Publisher').find_next('td').text\n",
    "        except: publish = '-'\n",
    "        return publish"
   ]
  },
  {
   "cell_type": "code",
   "execution_count": 11,
   "metadata": {},
   "outputs": [
    {
     "output_type": "execute_result",
     "data": {
      "text/plain": "'453  (1st edition hardback)'"
     },
     "metadata": {},
     "execution_count": 11
    }
   ],
   "source": [
    "BookChecker('https://en.wikipedia.org/wiki/Catch-22').getPages()"
   ]
  },
  {
   "cell_type": "code",
   "execution_count": 61,
   "metadata": {},
   "outputs": [],
   "source": [
    "class Downloader:\n",
    "    '''\n",
    "    Download all links for bookchecker to initiate\n",
    "    '''\n",
    "    def __init__(self, link):\n",
    "        '''\n",
    "        Give link to extract links of given webpages\n",
    "        '''\n",
    "        self.link = link\n",
    "    \n",
    "    def getSoup(self):\n",
    "        r = requests.get(self.link)\n",
    "        r.encoding = 'UTF-8'\n",
    "        return BeautifulSoup(r.text, 'lxml')\n",
    "\n",
    "    def getLinks(self):\n",
    "        wp = self.getSoup()\n",
    "        links = wp.find('div', {'id': 'mw-content-text'}).find_next('ol').findAll('a')\n",
    "        return ['https://en.wikipedia.org' + li['href'] for li in links]\n",
    "\n",
    "    def getName(self):\n",
    "        wp = self.getSoup()\n",
    "        links = links = wp.find('div', {'id': 'mw-content-text'}).find_next('ol').findAll('a')\n",
    "\n",
    "    def getBooks(self):\n",
    "        links = self.getLinks()\n",
    "        authors_list = [BookChecker(li).getAuthor() for li in links]\n",
    "        pages_list = [BookChecker(li).getPages() for li in links]\n",
    "        publishes_list = [BookChecker(li).getPublish() for li in links]\n",
    "        return pd.DataFrame({'Autor':authors_list, 'Pages': pages_list, 'Published': publishes_list})"
   ]
  },
  {
   "cell_type": "code",
   "execution_count": 58,
   "metadata": {},
   "outputs": [
    {
     "output_type": "execute_result",
     "data": {
      "text/plain": "'https://en.wikipedia.org/wiki/Catch-22'"
     },
     "metadata": {},
     "execution_count": 58
    }
   ],
   "source": [
    "links = Downloader('https://en.wikipedia.org/wiki/20th_Century%27s_Greatest_Hits:_100_English-Language_Books_of_Fiction').getLinks()\n",
    "links[4]"
   ]
  },
  {
   "cell_type": "code",
   "execution_count": 64,
   "metadata": {},
   "outputs": [],
   "source": [
    "df = Downloader('https://en.wikipedia.org/wiki/20th_Century%27s_Greatest_Hits:_100_English-Language_Books_of_Fiction').getBooks()"
   ]
  },
  {
   "cell_type": "code",
   "execution_count": null,
   "metadata": {},
   "outputs": [],
   "source": [
    "pd.melt(df, id_vars = '')"
   ]
  },
  {
   "cell_type": "code",
   "execution_count": 32,
   "metadata": {},
   "outputs": [
    {
     "output_type": "stream",
     "name": "stdout",
     "text": "George Orwell\nHenry James\nTheodore Dreiser\nAldous Huxley\nJoseph Heller\nJ. D. Salinger\nAnthony Burgess\nNathanael West\nJames Joyce\nJohn Steinbeck\nF. Scott Fitzgerald\nJoseph Conrad\nEdith Wharton\nRalph Ellison\nWilliam Kennedy\nVladimir Nabokov\nSalman Rushdie\nNorman Mailer\nRichard Wright\nJack Kerouac\nVladimir Nabokov\nE. M. Forster\nJames Joyce\nPaul Bowles\nKurt Vonnegut\nWilliam Faulkner\n–\nVirginia Woolf\nHenry Miller\nJames Joyce\nMalcolm Lowry\nJohn Dos Passos\nSherwood Anderson\nD. H. Lawrence\n"
    }
   ],
   "source": [
    "for li in links:\n",
    "    print(BookChecker(li).getAuthor())"
   ]
  },
  {
   "cell_type": "code",
   "execution_count": 33,
   "metadata": {},
   "outputs": [
    {
     "output_type": "execute_result",
     "data": {
      "text/plain": "['George Orwell',\n 'Henry James',\n 'Theodore Dreiser',\n 'Aldous Huxley',\n 'Joseph Heller',\n 'J. D. Salinger',\n 'Anthony Burgess',\n 'Nathanael West',\n 'James Joyce',\n 'John Steinbeck',\n 'F. Scott Fitzgerald',\n 'Joseph Conrad',\n 'Edith Wharton',\n 'Ralph Ellison',\n 'William Kennedy',\n 'Vladimir Nabokov',\n 'Salman Rushdie',\n 'Norman Mailer',\n 'Richard Wright',\n 'Jack Kerouac',\n 'Vladimir Nabokov',\n 'E. M. Forster',\n 'James Joyce',\n 'Paul Bowles',\n 'Kurt Vonnegut',\n 'William Faulkner',\n '–',\n 'Virginia Woolf',\n 'Henry Miller',\n 'James Joyce',\n 'Malcolm Lowry',\n 'John Dos Passos',\n 'Sherwood Anderson',\n 'D. H. Lawrence']"
     },
     "metadata": {},
     "execution_count": 33
    }
   ],
   "source": [
    "[BookChecker(li).getAuthor() for li in links]"
   ]
  },
  {
   "cell_type": "code",
   "execution_count": null,
   "metadata": {},
   "outputs": [],
   "source": [
    "class Combine(BookChecker):\n",
    "    '''\n",
    "    Combining Downloader and Bookcheker\n",
    "    '''"
   ]
  }
 ]
}