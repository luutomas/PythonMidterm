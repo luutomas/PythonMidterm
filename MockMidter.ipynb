{
 "nbformat": 4,
 "nbformat_minor": 2,
 "metadata": {
  "language_info": {
   "name": "python",
   "codemirror_mode": {
    "name": "ipython",
    "version": 3
   },
   "version": "3.8.1-final"
  },
  "orig_nbformat": 2,
  "file_extension": ".py",
  "mimetype": "text/x-python",
  "name": "python",
  "npconvert_exporter": "python",
  "pygments_lexer": "ipython3",
  "version": 3,
  "kernelspec": {
   "name": "python3",
   "display_name": "Python 3"
  }
 },
 "cells": [
  {
   "cell_type": "code",
   "execution_count": 1,
   "metadata": {},
   "outputs": [],
   "source": [
    "import numpy as np \n",
    "import pandas as pd \n",
    "import requests\n",
    "from bs4 import BeautifulSoup\n",
    "import pandas as pd\n",
    "import tqdm as tqdm\n",
    "from lxml import html\n",
    "import matplotlib.pyplot as plt\n",
    "import time"
   ]
  },
  {
   "cell_type": "code",
   "execution_count": 10,
   "metadata": {},
   "outputs": [],
   "source": [
    "def getSoup(link):\n",
    "    r = requests.get(link)\n",
    "    r.encoding = 'UTF-8'\n",
    "    return BeautifulSoup(r.text, 'lxml')"
   ]
  },
  {
   "cell_type": "code",
   "execution_count": 11,
   "metadata": {},
   "outputs": [],
   "source": [
    "bf = getSoup('https://en.wikipedia.org/wiki/20th_Century%27s_Greatest_Hits:_100_English-Language_Books_of_Fiction')"
   ]
  },
  {
   "cell_type": "code",
   "execution_count": 12,
   "metadata": {},
   "outputs": [
    {
     "output_type": "execute_result",
     "data": {
      "text/plain": "<a href=\"/wiki/Nineteen_Eighty-Four\" title=\"Nineteen Eighty-Four\">1984</a>"
     },
     "metadata": {},
     "execution_count": 12
    }
   ],
   "source": [
    "bf.find('div', {'id': 'mw-content-text'}).find_next('ol').find('a')"
   ]
  },
  {
   "cell_type": "code",
   "execution_count": 13,
   "metadata": {},
   "outputs": [
    {
     "output_type": "error",
     "ename": "NameError",
     "evalue": "name 'links' is not defined",
     "traceback": [
      "\u001b[0;31m---------------------------------------------------------------------------\u001b[0m",
      "\u001b[0;31mNameError\u001b[0m                                 Traceback (most recent call last)",
      "\u001b[0;32m<ipython-input-13-48dfdd645f68>\u001b[0m in \u001b[0;36m<module>\u001b[0;34m\u001b[0m\n\u001b[0;32m----> 1\u001b[0;31m \u001b[0mlinks\u001b[0m\u001b[0;34m[\u001b[0m\u001b[0;36m0\u001b[0m\u001b[0;34m]\u001b[0m\u001b[0;34m[\u001b[0m\u001b[0;34m'href'\u001b[0m\u001b[0;34m]\u001b[0m\u001b[0;34m\u001b[0m\u001b[0;34m\u001b[0m\u001b[0m\n\u001b[0m",
      "\u001b[0;31mNameError\u001b[0m: name 'links' is not defined"
     ]
    }
   ],
   "source": [
    "links[0]['href']"
   ]
  },
  {
   "cell_type": "code",
   "execution_count": 14,
   "metadata": {},
   "outputs": [
    {
     "output_type": "error",
     "ename": "NameError",
     "evalue": "name 'links' is not defined",
     "traceback": [
      "\u001b[0;31m---------------------------------------------------------------------------\u001b[0m",
      "\u001b[0;31mNameError\u001b[0m                                 Traceback (most recent call last)",
      "\u001b[0;32m<ipython-input-14-ae975139406e>\u001b[0m in \u001b[0;36m<module>\u001b[0;34m\u001b[0m\n\u001b[0;32m----> 1\u001b[0;31m \u001b[0;34m[\u001b[0m\u001b[0;34m'en.wikipedia.org'\u001b[0m \u001b[0;34m+\u001b[0m \u001b[0mli\u001b[0m\u001b[0;34m[\u001b[0m\u001b[0;34m'href'\u001b[0m\u001b[0;34m]\u001b[0m \u001b[0;32mfor\u001b[0m \u001b[0mli\u001b[0m \u001b[0;32min\u001b[0m \u001b[0mlinks\u001b[0m\u001b[0;34m]\u001b[0m\u001b[0;34m\u001b[0m\u001b[0;34m\u001b[0m\u001b[0m\n\u001b[0m",
      "\u001b[0;31mNameError\u001b[0m: name 'links' is not defined"
     ]
    }
   ],
   "source": [
    "['en.wikipedia.org' + li['href'] for li in links]"
   ]
  },
  {
   "cell_type": "code",
   "execution_count": 25,
   "metadata": {},
   "outputs": [
    {
     "output_type": "execute_result",
     "data": {
      "text/plain": "'1984'"
     },
     "metadata": {},
     "execution_count": 25
    }
   ],
   "source": [
    "bf.find('div', {'id': 'mw-content-text'}).find_next('ol').find('a').text"
   ]
  },
  {
   "cell_type": "code",
   "execution_count": 27,
   "metadata": {},
   "outputs": [],
   "source": [
    "name_list = [li.text for li in links]"
   ]
  },
  {
   "cell_type": "code",
   "execution_count": 20,
   "metadata": {},
   "outputs": [],
   "source": [
    "bf_book = getSoup('https://en.wikipedia.org/wiki/Nineteen_Eighty-Four')"
   ]
  },
  {
   "cell_type": "code",
   "execution_count": 107,
   "metadata": {},
   "outputs": [
    {
     "output_type": "execute_result",
     "data": {
      "text/plain": "<tr><td colspan=\"2\" style=\"text-align:center\"><a class=\"image\" href=\"/wiki/File:1984first.jpg\"><img alt=\"1984first.jpg\" data-file-height=\"385\" data-file-width=\"259\" decoding=\"async\" height=\"327\" src=\"//upload.wikimedia.org/wikipedia/en/thumb/c/c3/1984first.jpg/220px-1984first.jpg\" srcset=\"//upload.wikimedia.org/wikipedia/en/c/c3/1984first.jpg 1.5x\" width=\"220\"/></a><div>First edition cover</div></td></tr>"
     },
     "metadata": {},
     "execution_count": 107
    }
   ],
   "source": [
    "bf_book.find('div', {'id':'mw-content-text'}).find('table', {'class':'infobox vcard'}).find('tbody').find('tr')"
   ]
  },
  {
   "cell_type": "code",
   "execution_count": 111,
   "metadata": {},
   "outputs": [
    {
     "output_type": "execute_result",
     "data": {
      "text/plain": "[<tr><td colspan=\"2\" style=\"text-align:center\"><a class=\"image\" href=\"/wiki/File:1984first.jpg\"><img alt=\"1984first.jpg\" data-file-height=\"385\" data-file-width=\"259\" decoding=\"async\" height=\"327\" src=\"//upload.wikimedia.org/wikipedia/en/thumb/c/c3/1984first.jpg/220px-1984first.jpg\" srcset=\"//upload.wikimedia.org/wikipedia/en/c/c3/1984first.jpg 1.5x\" width=\"220\"/></a><div>First edition cover</div></td></tr>,\n <tr><th scope=\"row\">Author</th><td><a href=\"/wiki/George_Orwell\" title=\"George Orwell\">George Orwell</a></td></tr>,\n <tr><th scope=\"row\">Cover artist</th><td>Michael Kennar</td></tr>,\n <tr><th scope=\"row\">Country</th><td>United Kingdom</td></tr>,\n <tr><th scope=\"row\">Language</th><td>English</td></tr>,\n <tr><th scope=\"row\">Genre</th><td><a class=\"mw-redirect\" href=\"/wiki/Dystopian_novel\" title=\"Dystopian novel\">Dystopian</a>, <a href=\"/wiki/Political_fiction\" title=\"Political fiction\">political fiction</a>, <a href=\"/wiki/Social_science_fiction\" title=\"Social science fiction\">social science fiction</a></td></tr>,\n <tr><th scope=\"row\">Set in</th><td>London, Airstrip One, Oceania</td></tr>,\n <tr><th scope=\"row\">Publisher</th><td><a class=\"mw-redirect\" href=\"/wiki/Secker_%26_Warburg\" title=\"Secker &amp; Warburg\">Secker &amp; Warburg</a>\n 8 June 1949<span class=\"noprint\">; 70 years ago</span><span style=\"display:none\"> (<span class=\"bday dtstart published updated\">1949-06-08</span>)</span></td></tr>,\n <tr><th scope=\"row\">Media type</th><td>Print (hardback and paperback)</td></tr>,\n <tr><th scope=\"row\">Pages</th><td>328</td></tr>,\n <tr><th scope=\"row\">Awards</th><td><div class=\"plainlist\">\n <ul><li>NPR Top 100 Science Fiction and Fantasy Books</li></ul>\n </div></td></tr>,\n <tr><th scope=\"row\"><a href=\"/wiki/OCLC#Identifiers_and_linked_data\" title=\"OCLC\"><abbr title=\"Online Computer Library Center number\">OCLC</abbr></a></th><td><a class=\"external text\" href=\"https://www.worldcat.org/oclc/470015866\" rel=\"nofollow\">470015866</a></td></tr>,\n <tr><th scope=\"row\"><div style=\"padding:0.1em 0;line-height:1.2em;\"><a href=\"/wiki/Dewey_Decimal_Classification\" title=\"Dewey Decimal Classification\">Dewey Decimal</a></div></th><td>823.912<sup class=\"reference\" id=\"cite_ref-1\"><a href=\"#cite_note-1\">[1]</a></sup></td></tr>]"
     },
     "metadata": {},
     "execution_count": 111
    }
   ],
   "source": [
    "info = bf_book.find('div', {'id':'mw-content-text'}).find('table', {'class':'infobox vcard'}).find('tbody').findAll('tr')\n",
    "info"
   ]
  },
  {
   "cell_type": "code",
   "execution_count": 118,
   "metadata": {},
   "outputs": [
    {
     "output_type": "execute_result",
     "data": {
      "text/plain": "['First edition cover',\n 'Author',\n 'Cover\\xa0artist',\n 'Country',\n 'Language',\n 'Genre',\n 'Set\\xa0in',\n 'Publisher',\n 'Media\\xa0type',\n 'Pages',\n 'Awards',\n 'OCLC',\n 'Dewey Decimal']"
     },
     "metadata": {},
     "execution_count": 118
    }
   ],
   "source": [
    "[i.findChild().text for i in info]"
   ]
  },
  {
   "cell_type": "code",
   "execution_count": 123,
   "metadata": {},
   "outputs": [
    {
     "output_type": "execute_result",
     "data": {
      "text/plain": "['First edition cover',\n 'George Orwell',\n 'Michael Kennar',\n 'United Kingdom',\n 'English',\n 'Dystopian, political fiction, social science fiction',\n 'London, Airstrip One, Oceania',\n 'Secker & Warburg\\n8\\xa0June 1949; 70 years ago\\xa0(1949-06-08)',\n 'Print (hardback and paperback)',\n '328',\n '\\nNPR Top 100 Science Fiction and Fantasy Books\\n',\n '470015866',\n '823.912[1]']"
     },
     "metadata": {},
     "execution_count": 123
    }
   ],
   "source": [
    "info_details = bf_book.find('div', {'id':'mw-content-text'}).find('table', {'class':'infobox vcard'}).find('tbody').findAll('td')\n",
    "[i.text for i in info_details]"
   ]
  },
  {
   "cell_type": "code",
   "execution_count": 21,
   "metadata": {},
   "outputs": [
    {
     "output_type": "execute_result",
     "data": {
      "text/plain": "'328'"
     },
     "metadata": {},
     "execution_count": 21
    }
   ],
   "source": [
    "bf_book.find('div', {'id':'mw-content-text'}).find('table', {'class':'infobox vcard'}).find('tbody').find(text = 'Pages').find_next('td').text"
   ]
  },
  {
   "cell_type": "code",
   "execution_count": 22,
   "metadata": {},
   "outputs": [
    {
     "output_type": "execute_result",
     "data": {
      "text/plain": "'Secker & Warburg\\n8\\xa0June 1949; 70 years ago\\xa0(1949-06-08)'"
     },
     "metadata": {},
     "execution_count": 22
    }
   ],
   "source": [
    "bf_book.find('div', {'id':'mw-content-text'}).find('table', {'class':'infobox vcard'}).find('tbody').find(text = 'Publisher').find_next('td').text"
   ]
  },
  {
   "cell_type": "code",
   "execution_count": 27,
   "metadata": {},
   "outputs": [
    {
     "output_type": "execute_result",
     "data": {
      "text/plain": "'Nineteen Eighty-Four: A Novel '"
     },
     "metadata": {},
     "execution_count": 27
    }
   ],
   "source": [
    "bf_book.find('div', {'id':'mw-content-text'}).find('table', {'class':'infobox vcard'}).find('caption').text"
   ]
  },
  {
   "cell_type": "code",
   "execution_count": 34,
   "metadata": {},
   "outputs": [],
   "source": [
    "class BookChecker: \n",
    "    '''\n",
    "    Getting infos from webpage \n",
    "    '''\n",
    "    def __init__(self, link):\n",
    "        '''\n",
    "        Input link to search Author, Number of Pages and Publish info\n",
    "        '''\n",
    "        self.link = link\n",
    "\n",
    "    def getSoup(self):\n",
    "        r = requests.get(self.link)\n",
    "        r.encoding = 'UTF-8'\n",
    "        return BeautifulSoup(r.text, 'lxml')\n",
    "    \n",
    "    def getAuthor(self):\n",
    "        bf = self.getSoup()\n",
    "        try: \n",
    "            author =  bf.find('div', {'id':'mw-content-text'}).find('table', {'class':'infobox vcard'}).find('tbody').find(text = 'Author').find_next('td').text \n",
    "        except: author = \"–\" \n",
    "        return author\n",
    "\n",
    "    def getPages(self):\n",
    "        bf = self.getSoup()\n",
    "        try:\n",
    "            pages = bf.find('div', {'id':'mw-content-text'}).find('table', {'class':'infobox vcard'}).find('tbody').find(text = 'Pages').find_next('td').text \n",
    "        except: pages =  '-'\n",
    "        return pages\n",
    "    \n",
    "    def getPublish(self):\n",
    "        bf = self.getSoup()\n",
    "        try: publish = bf.find('div', {'id':'mw-content-text'}).find('table', {'class':'infobox vcard'}).find('tbody').find(text = 'Publisher').find_next('td').text\n",
    "        except: publish = '-'\n",
    "        return publish\n",
    "\n",
    "    def getInfo(self):\n",
    "        bf = self.getSoup()\n",
    "        try: \n",
    "            name = bf.find('div', {'id':'mw-content-text'}).find('table', {'class':'infobox vcard'}).find('caption').text\n",
    "        except: name = '-'\n",
    "        try: \n",
    "            info_headers_list = bf.find('div', {'id':'mw-content-text'}).find('table', {'class':'infobox vcard'}).find('tbody').findAll('tr')\n",
    "            info_headers = [i.findChild().text for i in info_headers_list]\n",
    "        except: info_headers = '-'\n",
    "        try:\n",
    "            info_details_list = bf.find('div', {'id':'mw-content-text'}).find('table', {'class':'infobox vcard'}).find('tbody').findAll('td')\n",
    "            info_details = [i.text for i in info_details_list]\n",
    "        except: info_details = '-'\n",
    "        return pd.DataFrame({'Name':name,'Metric':info_headers, 'Values':info_details})"
   ]
  },
  {
   "cell_type": "code",
   "execution_count": 35,
   "metadata": {},
   "outputs": [
    {
     "output_type": "execute_result",
     "data": {
      "text/plain": "                              Name               Metric  \\\n0   Nineteen Eighty-Four: A Novel   First edition cover   \n1   Nineteen Eighty-Four: A Novel                Author   \n2   Nineteen Eighty-Four: A Novel          Cover artist   \n3   Nineteen Eighty-Four: A Novel               Country   \n4   Nineteen Eighty-Four: A Novel              Language   \n5   Nineteen Eighty-Four: A Novel                 Genre   \n6   Nineteen Eighty-Four: A Novel                Set in   \n7   Nineteen Eighty-Four: A Novel             Publisher   \n8   Nineteen Eighty-Four: A Novel            Media type   \n9   Nineteen Eighty-Four: A Novel                 Pages   \n10  Nineteen Eighty-Four: A Novel                Awards   \n11  Nineteen Eighty-Four: A Novel                  OCLC   \n12  Nineteen Eighty-Four: A Novel         Dewey Decimal   \n\n                                               Values  \n0                                 First edition cover  \n1                                       George Orwell  \n2                                      Michael Kennar  \n3                                      United Kingdom  \n4                                             English  \n5   Dystopian, political fiction, social science f...  \n6                       London, Airstrip One, Oceania  \n7   Secker & Warburg\\n8 June 1949; 70 years ago (1...  \n8                      Print (hardback and paperback)  \n9                                                 328  \n10  \\nNPR Top 100 Science Fiction and Fantasy Books\\n  \n11                                          470015866  \n12                                         823.912[1]  ",
      "text/html": "<div>\n<style scoped>\n    .dataframe tbody tr th:only-of-type {\n        vertical-align: middle;\n    }\n\n    .dataframe tbody tr th {\n        vertical-align: top;\n    }\n\n    .dataframe thead th {\n        text-align: right;\n    }\n</style>\n<table border=\"1\" class=\"dataframe\">\n  <thead>\n    <tr style=\"text-align: right;\">\n      <th></th>\n      <th>Name</th>\n      <th>Metric</th>\n      <th>Values</th>\n    </tr>\n  </thead>\n  <tbody>\n    <tr>\n      <th>0</th>\n      <td>Nineteen Eighty-Four: A Novel</td>\n      <td>First edition cover</td>\n      <td>First edition cover</td>\n    </tr>\n    <tr>\n      <th>1</th>\n      <td>Nineteen Eighty-Four: A Novel</td>\n      <td>Author</td>\n      <td>George Orwell</td>\n    </tr>\n    <tr>\n      <th>2</th>\n      <td>Nineteen Eighty-Four: A Novel</td>\n      <td>Cover artist</td>\n      <td>Michael Kennar</td>\n    </tr>\n    <tr>\n      <th>3</th>\n      <td>Nineteen Eighty-Four: A Novel</td>\n      <td>Country</td>\n      <td>United Kingdom</td>\n    </tr>\n    <tr>\n      <th>4</th>\n      <td>Nineteen Eighty-Four: A Novel</td>\n      <td>Language</td>\n      <td>English</td>\n    </tr>\n    <tr>\n      <th>5</th>\n      <td>Nineteen Eighty-Four: A Novel</td>\n      <td>Genre</td>\n      <td>Dystopian, political fiction, social science f...</td>\n    </tr>\n    <tr>\n      <th>6</th>\n      <td>Nineteen Eighty-Four: A Novel</td>\n      <td>Set in</td>\n      <td>London, Airstrip One, Oceania</td>\n    </tr>\n    <tr>\n      <th>7</th>\n      <td>Nineteen Eighty-Four: A Novel</td>\n      <td>Publisher</td>\n      <td>Secker &amp; Warburg\\n8 June 1949; 70 years ago (1...</td>\n    </tr>\n    <tr>\n      <th>8</th>\n      <td>Nineteen Eighty-Four: A Novel</td>\n      <td>Media type</td>\n      <td>Print (hardback and paperback)</td>\n    </tr>\n    <tr>\n      <th>9</th>\n      <td>Nineteen Eighty-Four: A Novel</td>\n      <td>Pages</td>\n      <td>328</td>\n    </tr>\n    <tr>\n      <th>10</th>\n      <td>Nineteen Eighty-Four: A Novel</td>\n      <td>Awards</td>\n      <td>\\nNPR Top 100 Science Fiction and Fantasy Books\\n</td>\n    </tr>\n    <tr>\n      <th>11</th>\n      <td>Nineteen Eighty-Four: A Novel</td>\n      <td>OCLC</td>\n      <td>470015866</td>\n    </tr>\n    <tr>\n      <th>12</th>\n      <td>Nineteen Eighty-Four: A Novel</td>\n      <td>Dewey Decimal</td>\n      <td>823.912[1]</td>\n    </tr>\n  </tbody>\n</table>\n</div>"
     },
     "metadata": {},
     "execution_count": 35
    }
   ],
   "source": [
    "BookChecker('https://en.wikipedia.org/wiki/Nineteen_Eighty-Four').getInfo()"
   ]
  },
  {
   "cell_type": "code",
   "execution_count": 74,
   "metadata": {},
   "outputs": [],
   "source": [
    "class Downloader:\n",
    "    '''\n",
    "    Download all links for bookchecker to initiate\n",
    "    '''\n",
    "    def __init__(self, link):\n",
    "        '''\n",
    "        Give link to extract links of given webpages\n",
    "        '''\n",
    "        self.link = link\n",
    "    \n",
    "    def getSoup(self):\n",
    "        r = requests.get(self.link)\n",
    "        r.encoding = 'UTF-8'\n",
    "        return BeautifulSoup(r.text, 'lxml')\n",
    "\n",
    "    def getLinks(self):\n",
    "        wp = self.getSoup()\n",
    "        links = wp.find('div', {'id': 'mw-content-text'}).find_next('ol').findAll('a')\n",
    "        return ['https://en.wikipedia.org' + li['href'] for li in links]\n",
    "\n",
    "    def getName(self):\n",
    "        wp = self.getSoup()\n",
    "        links = wp.find('div', {'id': 'mw-content-text'}).find_next('ol').findAll('a')\n",
    "        return [li.text for li in links]\n",
    "\n",
    "\n",
    "    def getBooks(self):\n",
    "        links = self.getLinks()\n",
    "        authors_list = [BookChecker(li).getAuthor() for li in links]\n",
    "        pages_list = [BookChecker(li).getPages() for li in links]\n",
    "        publishes_list = [BookChecker(li).getPublish() for li in links]\n",
    "        names_list = self.getName()\n",
    "        return pd.DataFrame({'Name':names_list,'Autor':authors_list, 'Pages': pages_list, 'Published': publishes_list})\n",
    "\n",
    "    def getBooksV2(self):\n",
    "        df = []\n",
    "        links = self.getLinks()\n",
    "        for li in links: \n",
    "            \n",
    "        return df.append([BookChecker(i).getInfo() for i in links])"
   ]
  },
  {
   "cell_type": "code",
   "execution_count": 50,
   "metadata": {},
   "outputs": [
    {
     "output_type": "execute_result",
     "data": {
      "text/plain": "['https://en.wikipedia.org/wiki/Nineteen_Eighty-Four',\n 'https://en.wikipedia.org/wiki/The_Ambassadors',\n 'https://en.wikipedia.org/wiki/An_American_Tragedy',\n 'https://en.wikipedia.org/wiki/Brave_New_World',\n 'https://en.wikipedia.org/wiki/Catch-22',\n 'https://en.wikipedia.org/wiki/The_Catcher_in_the_Rye',\n 'https://en.wikipedia.org/wiki/A_Clockwork_Orange_(novel)',\n 'https://en.wikipedia.org/wiki/The_Day_of_the_Locust',\n 'https://en.wikipedia.org/wiki/Finnegans_Wake',\n 'https://en.wikipedia.org/wiki/The_Grapes_of_Wrath',\n 'https://en.wikipedia.org/wiki/The_Great_Gatsby',\n 'https://en.wikipedia.org/wiki/Heart_of_Darkness',\n 'https://en.wikipedia.org/wiki/The_House_of_Mirth',\n 'https://en.wikipedia.org/wiki/Invisible_Man',\n 'https://en.wikipedia.org/wiki/Ironweed_(novel)',\n 'https://en.wikipedia.org/wiki/Lolita',\n 'https://en.wikipedia.org/wiki/Midnight%27s_Children',\n 'https://en.wikipedia.org/wiki/The_Naked_and_the_Dead',\n 'https://en.wikipedia.org/wiki/Native_Son',\n 'https://en.wikipedia.org/wiki/On_the_Road',\n 'https://en.wikipedia.org/wiki/Pale_Fire',\n 'https://en.wikipedia.org/wiki/A_Passage_to_India',\n 'https://en.wikipedia.org/wiki/A_Portrait_of_the_Artist_as_a_Young_Man',\n 'https://en.wikipedia.org/wiki/The_Sheltering_Sky',\n 'https://en.wikipedia.org/wiki/Slaughterhouse-Five',\n 'https://en.wikipedia.org/wiki/The_Sound_and_the_Fury',\n 'https://en.wikipedia.org/wiki/The_Sun_Also_Rises',\n 'https://en.wikipedia.org/wiki/To_the_Lighthouse',\n 'https://en.wikipedia.org/wiki/Tropic_of_Cancer_(novel)',\n 'https://en.wikipedia.org/wiki/Ulysses_(novel)',\n 'https://en.wikipedia.org/wiki/Under_the_Volcano',\n 'https://en.wikipedia.org/wiki/U.S.A._(trilogy)',\n 'https://en.wikipedia.org/wiki/Winesburg,_Ohio',\n 'https://en.wikipedia.org/wiki/Women_in_Love']"
     },
     "metadata": {},
     "execution_count": 50
    }
   ],
   "source": [
    "links_test = Downloader('https://en.wikipedia.org/wiki/20th_Century%27s_Greatest_Hits:_100_English-Language_Books_of_Fiction').getLinks()\n",
    "links_test"
   ]
  },
  {
   "cell_type": "code",
   "execution_count": 75,
   "metadata": {},
   "outputs": [
    {
     "output_type": "error",
     "ename": "ValueError",
     "evalue": "If using all scalar values, you must pass an index",
     "traceback": [
      "\u001b[0;31m---------------------------------------------------------------------------\u001b[0m",
      "\u001b[0;31mValueError\u001b[0m                                Traceback (most recent call last)",
      "\u001b[0;32m<ipython-input-75-3757159ecca8>\u001b[0m in \u001b[0;36m<module>\u001b[0;34m\u001b[0m\n\u001b[0;32m----> 1\u001b[0;31m \u001b[0mDownloader\u001b[0m\u001b[0;34m(\u001b[0m\u001b[0;34m'https://en.wikipedia.org/wiki/20th_Century%27s_Greatest_Hits:_100_English-Language_Books_of_Fiction'\u001b[0m\u001b[0;34m)\u001b[0m\u001b[0;34m.\u001b[0m\u001b[0mgetBooksV2\u001b[0m\u001b[0;34m(\u001b[0m\u001b[0;34m)\u001b[0m\u001b[0;34m\u001b[0m\u001b[0;34m\u001b[0m\u001b[0m\n\u001b[0m",
      "\u001b[0;32m<ipython-input-74-e13d23ac45b5>\u001b[0m in \u001b[0;36mgetBooksV2\u001b[0;34m(self)\u001b[0m\n\u001b[1;32m     36\u001b[0m         \u001b[0mdf\u001b[0m \u001b[0;34m=\u001b[0m \u001b[0;34m[\u001b[0m\u001b[0;34m]\u001b[0m\u001b[0;34m\u001b[0m\u001b[0;34m\u001b[0m\u001b[0m\n\u001b[1;32m     37\u001b[0m         \u001b[0mlinks\u001b[0m \u001b[0;34m=\u001b[0m \u001b[0mself\u001b[0m\u001b[0;34m.\u001b[0m\u001b[0mgetLinks\u001b[0m\u001b[0;34m(\u001b[0m\u001b[0;34m)\u001b[0m\u001b[0;34m\u001b[0m\u001b[0;34m\u001b[0m\u001b[0m\n\u001b[0;32m---> 38\u001b[0;31m         \u001b[0;32mreturn\u001b[0m \u001b[0mdf\u001b[0m\u001b[0;34m.\u001b[0m\u001b[0mappend\u001b[0m\u001b[0;34m(\u001b[0m\u001b[0;34m[\u001b[0m\u001b[0mBookChecker\u001b[0m\u001b[0;34m(\u001b[0m\u001b[0mi\u001b[0m\u001b[0;34m)\u001b[0m\u001b[0;34m.\u001b[0m\u001b[0mgetInfo\u001b[0m\u001b[0;34m(\u001b[0m\u001b[0;34m)\u001b[0m \u001b[0;32mfor\u001b[0m \u001b[0mi\u001b[0m \u001b[0;32min\u001b[0m \u001b[0mlinks\u001b[0m\u001b[0;34m]\u001b[0m\u001b[0;34m)\u001b[0m\u001b[0;34m\u001b[0m\u001b[0;34m\u001b[0m\u001b[0m\n\u001b[0m",
      "\u001b[0;32m<ipython-input-74-e13d23ac45b5>\u001b[0m in \u001b[0;36m<listcomp>\u001b[0;34m(.0)\u001b[0m\n\u001b[1;32m     36\u001b[0m         \u001b[0mdf\u001b[0m \u001b[0;34m=\u001b[0m \u001b[0;34m[\u001b[0m\u001b[0;34m]\u001b[0m\u001b[0;34m\u001b[0m\u001b[0;34m\u001b[0m\u001b[0m\n\u001b[1;32m     37\u001b[0m         \u001b[0mlinks\u001b[0m \u001b[0;34m=\u001b[0m \u001b[0mself\u001b[0m\u001b[0;34m.\u001b[0m\u001b[0mgetLinks\u001b[0m\u001b[0;34m(\u001b[0m\u001b[0;34m)\u001b[0m\u001b[0;34m\u001b[0m\u001b[0;34m\u001b[0m\u001b[0m\n\u001b[0;32m---> 38\u001b[0;31m         \u001b[0;32mreturn\u001b[0m \u001b[0mdf\u001b[0m\u001b[0;34m.\u001b[0m\u001b[0mappend\u001b[0m\u001b[0;34m(\u001b[0m\u001b[0;34m[\u001b[0m\u001b[0mBookChecker\u001b[0m\u001b[0;34m(\u001b[0m\u001b[0mi\u001b[0m\u001b[0;34m)\u001b[0m\u001b[0;34m.\u001b[0m\u001b[0mgetInfo\u001b[0m\u001b[0;34m(\u001b[0m\u001b[0;34m)\u001b[0m \u001b[0;32mfor\u001b[0m \u001b[0mi\u001b[0m \u001b[0;32min\u001b[0m \u001b[0mlinks\u001b[0m\u001b[0;34m]\u001b[0m\u001b[0;34m)\u001b[0m\u001b[0;34m\u001b[0m\u001b[0;34m\u001b[0m\u001b[0m\n\u001b[0m",
      "\u001b[0;32m<ipython-input-34-dc34f3a3f886>\u001b[0m in \u001b[0;36mgetInfo\u001b[0;34m(self)\u001b[0m\n\u001b[1;32m     47\u001b[0m             \u001b[0minfo_details\u001b[0m \u001b[0;34m=\u001b[0m \u001b[0;34m[\u001b[0m\u001b[0mi\u001b[0m\u001b[0;34m.\u001b[0m\u001b[0mtext\u001b[0m \u001b[0;32mfor\u001b[0m \u001b[0mi\u001b[0m \u001b[0;32min\u001b[0m \u001b[0minfo_details_list\u001b[0m\u001b[0;34m]\u001b[0m\u001b[0;34m\u001b[0m\u001b[0;34m\u001b[0m\u001b[0m\n\u001b[1;32m     48\u001b[0m         \u001b[0;32mexcept\u001b[0m\u001b[0;34m:\u001b[0m \u001b[0minfo_details\u001b[0m \u001b[0;34m=\u001b[0m \u001b[0;34m'-'\u001b[0m\u001b[0;34m\u001b[0m\u001b[0;34m\u001b[0m\u001b[0m\n\u001b[0;32m---> 49\u001b[0;31m         \u001b[0;32mreturn\u001b[0m \u001b[0mpd\u001b[0m\u001b[0;34m.\u001b[0m\u001b[0mDataFrame\u001b[0m\u001b[0;34m(\u001b[0m\u001b[0;34m{\u001b[0m\u001b[0;34m'Name'\u001b[0m\u001b[0;34m:\u001b[0m\u001b[0mname\u001b[0m\u001b[0;34m,\u001b[0m\u001b[0;34m'Metric'\u001b[0m\u001b[0;34m:\u001b[0m\u001b[0minfo_headers\u001b[0m\u001b[0;34m,\u001b[0m \u001b[0;34m'Values'\u001b[0m\u001b[0;34m:\u001b[0m\u001b[0minfo_details\u001b[0m\u001b[0;34m}\u001b[0m\u001b[0;34m)\u001b[0m\u001b[0;34m\u001b[0m\u001b[0;34m\u001b[0m\u001b[0m\n\u001b[0m",
      "\u001b[0;32m~/anaconda3/lib/python3.7/site-packages/pandas/core/frame.py\u001b[0m in \u001b[0;36m__init__\u001b[0;34m(self, data, index, columns, dtype, copy)\u001b[0m\n\u001b[1;32m    390\u001b[0m                                  dtype=dtype, copy=copy)\n\u001b[1;32m    391\u001b[0m         \u001b[0;32melif\u001b[0m \u001b[0misinstance\u001b[0m\u001b[0;34m(\u001b[0m\u001b[0mdata\u001b[0m\u001b[0;34m,\u001b[0m \u001b[0mdict\u001b[0m\u001b[0;34m)\u001b[0m\u001b[0;34m:\u001b[0m\u001b[0;34m\u001b[0m\u001b[0;34m\u001b[0m\u001b[0m\n\u001b[0;32m--> 392\u001b[0;31m             \u001b[0mmgr\u001b[0m \u001b[0;34m=\u001b[0m \u001b[0minit_dict\u001b[0m\u001b[0;34m(\u001b[0m\u001b[0mdata\u001b[0m\u001b[0;34m,\u001b[0m \u001b[0mindex\u001b[0m\u001b[0;34m,\u001b[0m \u001b[0mcolumns\u001b[0m\u001b[0;34m,\u001b[0m \u001b[0mdtype\u001b[0m\u001b[0;34m=\u001b[0m\u001b[0mdtype\u001b[0m\u001b[0;34m)\u001b[0m\u001b[0;34m\u001b[0m\u001b[0;34m\u001b[0m\u001b[0m\n\u001b[0m\u001b[1;32m    393\u001b[0m         \u001b[0;32melif\u001b[0m \u001b[0misinstance\u001b[0m\u001b[0;34m(\u001b[0m\u001b[0mdata\u001b[0m\u001b[0;34m,\u001b[0m \u001b[0mma\u001b[0m\u001b[0;34m.\u001b[0m\u001b[0mMaskedArray\u001b[0m\u001b[0;34m)\u001b[0m\u001b[0;34m:\u001b[0m\u001b[0;34m\u001b[0m\u001b[0;34m\u001b[0m\u001b[0m\n\u001b[1;32m    394\u001b[0m             \u001b[0;32mimport\u001b[0m \u001b[0mnumpy\u001b[0m\u001b[0;34m.\u001b[0m\u001b[0mma\u001b[0m\u001b[0;34m.\u001b[0m\u001b[0mmrecords\u001b[0m \u001b[0;32mas\u001b[0m \u001b[0mmrecords\u001b[0m\u001b[0;34m\u001b[0m\u001b[0;34m\u001b[0m\u001b[0m\n",
      "\u001b[0;32m~/anaconda3/lib/python3.7/site-packages/pandas/core/internals/construction.py\u001b[0m in \u001b[0;36minit_dict\u001b[0;34m(data, index, columns, dtype)\u001b[0m\n\u001b[1;32m    210\u001b[0m         \u001b[0marrays\u001b[0m \u001b[0;34m=\u001b[0m \u001b[0;34m[\u001b[0m\u001b[0mdata\u001b[0m\u001b[0;34m[\u001b[0m\u001b[0mk\u001b[0m\u001b[0;34m]\u001b[0m \u001b[0;32mfor\u001b[0m \u001b[0mk\u001b[0m \u001b[0;32min\u001b[0m \u001b[0mkeys\u001b[0m\u001b[0;34m]\u001b[0m\u001b[0;34m\u001b[0m\u001b[0;34m\u001b[0m\u001b[0m\n\u001b[1;32m    211\u001b[0m \u001b[0;34m\u001b[0m\u001b[0m\n\u001b[0;32m--> 212\u001b[0;31m     \u001b[0;32mreturn\u001b[0m \u001b[0marrays_to_mgr\u001b[0m\u001b[0;34m(\u001b[0m\u001b[0marrays\u001b[0m\u001b[0;34m,\u001b[0m \u001b[0mdata_names\u001b[0m\u001b[0;34m,\u001b[0m \u001b[0mindex\u001b[0m\u001b[0;34m,\u001b[0m \u001b[0mcolumns\u001b[0m\u001b[0;34m,\u001b[0m \u001b[0mdtype\u001b[0m\u001b[0;34m=\u001b[0m\u001b[0mdtype\u001b[0m\u001b[0;34m)\u001b[0m\u001b[0;34m\u001b[0m\u001b[0;34m\u001b[0m\u001b[0m\n\u001b[0m\u001b[1;32m    213\u001b[0m \u001b[0;34m\u001b[0m\u001b[0m\n\u001b[1;32m    214\u001b[0m \u001b[0;34m\u001b[0m\u001b[0m\n",
      "\u001b[0;32m~/anaconda3/lib/python3.7/site-packages/pandas/core/internals/construction.py\u001b[0m in \u001b[0;36marrays_to_mgr\u001b[0;34m(arrays, arr_names, index, columns, dtype)\u001b[0m\n\u001b[1;32m     49\u001b[0m     \u001b[0;31m# figure out the index, if necessary\u001b[0m\u001b[0;34m\u001b[0m\u001b[0;34m\u001b[0m\u001b[0;34m\u001b[0m\u001b[0m\n\u001b[1;32m     50\u001b[0m     \u001b[0;32mif\u001b[0m \u001b[0mindex\u001b[0m \u001b[0;32mis\u001b[0m \u001b[0;32mNone\u001b[0m\u001b[0;34m:\u001b[0m\u001b[0;34m\u001b[0m\u001b[0;34m\u001b[0m\u001b[0m\n\u001b[0;32m---> 51\u001b[0;31m         \u001b[0mindex\u001b[0m \u001b[0;34m=\u001b[0m \u001b[0mextract_index\u001b[0m\u001b[0;34m(\u001b[0m\u001b[0marrays\u001b[0m\u001b[0;34m)\u001b[0m\u001b[0;34m\u001b[0m\u001b[0;34m\u001b[0m\u001b[0m\n\u001b[0m\u001b[1;32m     52\u001b[0m     \u001b[0;32melse\u001b[0m\u001b[0;34m:\u001b[0m\u001b[0;34m\u001b[0m\u001b[0;34m\u001b[0m\u001b[0m\n\u001b[1;32m     53\u001b[0m         \u001b[0mindex\u001b[0m \u001b[0;34m=\u001b[0m \u001b[0mensure_index\u001b[0m\u001b[0;34m(\u001b[0m\u001b[0mindex\u001b[0m\u001b[0;34m)\u001b[0m\u001b[0;34m\u001b[0m\u001b[0;34m\u001b[0m\u001b[0m\n",
      "\u001b[0;32m~/anaconda3/lib/python3.7/site-packages/pandas/core/internals/construction.py\u001b[0m in \u001b[0;36mextract_index\u001b[0;34m(data)\u001b[0m\n\u001b[1;32m    306\u001b[0m \u001b[0;34m\u001b[0m\u001b[0m\n\u001b[1;32m    307\u001b[0m         \u001b[0;32mif\u001b[0m \u001b[0;32mnot\u001b[0m \u001b[0mindexes\u001b[0m \u001b[0;32mand\u001b[0m \u001b[0;32mnot\u001b[0m \u001b[0mraw_lengths\u001b[0m\u001b[0;34m:\u001b[0m\u001b[0;34m\u001b[0m\u001b[0;34m\u001b[0m\u001b[0m\n\u001b[0;32m--> 308\u001b[0;31m             raise ValueError('If using all scalar values, you must pass'\n\u001b[0m\u001b[1;32m    309\u001b[0m                              ' an index')\n\u001b[1;32m    310\u001b[0m \u001b[0;34m\u001b[0m\u001b[0m\n",
      "\u001b[0;31mValueError\u001b[0m: If using all scalar values, you must pass an index"
     ]
    }
   ],
   "source": [
    "Downloader('https://en.wikipedia.org/wiki/20th_Century%27s_Greatest_Hits:_100_English-Language_Books_of_Fiction').getBooksV2()"
   ]
  },
  {
   "cell_type": "code",
   "execution_count": 20,
   "metadata": {},
   "outputs": [
    {
     "output_type": "execute_result",
     "data": {
      "text/plain": "                  Name             Autor                          Pages  \\\n0                 1984     George Orwell                            328   \n1      The Ambassadors       Henry James       Methuen: 458Harpers: 432   \n2  An American Tragedy  Theodore Dreiser                              -   \n3      Brave New World     Aldous Huxley  311 (1932 ed.)63,766 words[1]   \n4             Catch-22     Joseph Heller    453  (1st edition hardback)   \n\n                                           Published  \n0  Secker & Warburg\\n8 June 1949; 70 years ago (1...  \n1  Methuen & Co., LondonHarper & Brothers, New Yo...  \n2                                   Boni & Liveright  \n3                                                  -  \n4                                   Simon & Schuster  ",
      "text/html": "<div>\n<style scoped>\n    .dataframe tbody tr th:only-of-type {\n        vertical-align: middle;\n    }\n\n    .dataframe tbody tr th {\n        vertical-align: top;\n    }\n\n    .dataframe thead th {\n        text-align: right;\n    }\n</style>\n<table border=\"1\" class=\"dataframe\">\n  <thead>\n    <tr style=\"text-align: right;\">\n      <th></th>\n      <th>Name</th>\n      <th>Autor</th>\n      <th>Pages</th>\n      <th>Published</th>\n    </tr>\n  </thead>\n  <tbody>\n    <tr>\n      <th>0</th>\n      <td>1984</td>\n      <td>George Orwell</td>\n      <td>328</td>\n      <td>Secker &amp; Warburg\\n8 June 1949; 70 years ago (1...</td>\n    </tr>\n    <tr>\n      <th>1</th>\n      <td>The Ambassadors</td>\n      <td>Henry James</td>\n      <td>Methuen: 458Harpers: 432</td>\n      <td>Methuen &amp; Co., LondonHarper &amp; Brothers, New Yo...</td>\n    </tr>\n    <tr>\n      <th>2</th>\n      <td>An American Tragedy</td>\n      <td>Theodore Dreiser</td>\n      <td>-</td>\n      <td>Boni &amp; Liveright</td>\n    </tr>\n    <tr>\n      <th>3</th>\n      <td>Brave New World</td>\n      <td>Aldous Huxley</td>\n      <td>311 (1932 ed.)63,766 words[1]</td>\n      <td>-</td>\n    </tr>\n    <tr>\n      <th>4</th>\n      <td>Catch-22</td>\n      <td>Joseph Heller</td>\n      <td>453  (1st edition hardback)</td>\n      <td>Simon &amp; Schuster</td>\n    </tr>\n  </tbody>\n</table>\n</div>"
     },
     "metadata": {},
     "execution_count": 20
    }
   ],
   "source": [
    "df = Downloader('https://en.wikipedia.org/wiki/20th_Century%27s_Greatest_Hits:_100_English-Language_Books_of_Fiction').getBooks()\n",
    "df.head()"
   ]
  },
  {
   "cell_type": "code",
   "execution_count": null,
   "metadata": {},
   "outputs": [],
   "source": [
    "df.head()"
   ]
  },
  {
   "cell_type": "code",
   "execution_count": 23,
   "metadata": {},
   "outputs": [],
   "source": [
    "df_long = pd.melt(df, id_vars = ['Name'], var_name = 'Metric', value_name = 'Values')"
   ]
  },
  {
   "cell_type": "code",
   "execution_count": 32,
   "metadata": {},
   "outputs": [
    {
     "output_type": "execute_result",
     "data": {
      "text/plain": "             Name  Pages  Published\nAutor                              \nJames Joyce     3      3          3",
      "text/html": "<div>\n<style scoped>\n    .dataframe tbody tr th:only-of-type {\n        vertical-align: middle;\n    }\n\n    .dataframe tbody tr th {\n        vertical-align: top;\n    }\n\n    .dataframe thead th {\n        text-align: right;\n    }\n</style>\n<table border=\"1\" class=\"dataframe\">\n  <thead>\n    <tr style=\"text-align: right;\">\n      <th></th>\n      <th>Name</th>\n      <th>Pages</th>\n      <th>Published</th>\n    </tr>\n    <tr>\n      <th>Autor</th>\n      <th></th>\n      <th></th>\n      <th></th>\n    </tr>\n  </thead>\n  <tbody>\n    <tr>\n      <th>James Joyce</th>\n      <td>3</td>\n      <td>3</td>\n      <td>3</td>\n    </tr>\n  </tbody>\n</table>\n</div>"
     },
     "metadata": {},
     "execution_count": 32
    }
   ],
   "source": [
    "df.groupby(['Autor']).count().sort_values(['Name'], ascending = False).head(1)"
   ]
  },
  {
   "cell_type": "code",
   "execution_count": 46,
   "metadata": {},
   "outputs": [
    {
     "output_type": "execute_result",
     "data": {
      "text/plain": "True     23\nFalse    11\nName: Pages, dtype: int64"
     },
     "metadata": {},
     "execution_count": 46
    }
   ],
   "source": [
    "(df['Pages'] != '-').value_counts()"
   ]
  }
 ]
}