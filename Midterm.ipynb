{
 "nbformat": 4,
 "nbformat_minor": 2,
 "metadata": {
  "language_info": {
   "name": "python",
   "codemirror_mode": {
    "name": "ipython",
    "version": 3
   },
   "version": "3.7.3-final"
  },
  "orig_nbformat": 2,
  "file_extension": ".py",
  "mimetype": "text/x-python",
  "name": "python",
  "npconvert_exporter": "python",
  "pygments_lexer": "ipython3",
  "version": 3,
  "kernelspec": {
   "name": "python3",
   "display_name": "Python 3"
  }
 },
 "cells": [
  {
   "cell_type": "code",
   "execution_count": 2,
   "metadata": {},
   "outputs": [],
   "source": [
    "import numpy as np \n",
    "import pandas as pd \n",
    "import requests\n",
    "from bs4 import BeautifulSoup\n",
    "import pandas as pd\n",
    "import tqdm as tqdm\n",
    "from lxml import html\n",
    "import matplotlib.pyplot as plt\n",
    "import time"
   ]
  },
  {
   "cell_type": "code",
   "execution_count": null,
   "metadata": {},
   "outputs": [],
   "source": []
  },
  {
   "cell_type": "code",
   "execution_count": 16,
   "metadata": {},
   "outputs": [],
   "source": [
    "def getSoup_test(link):\n",
    "        r = requests.get(link)\n",
    "        r.encoding = 'UTF-8'\n",
    "        return BeautifulSoup(r.text, 'html')"
   ]
  },
  {
   "cell_type": "code",
   "execution_count": 17,
   "metadata": {},
   "outputs": [],
   "source": [
    "bf_test = getSoup_test('http://wiki.lspace.org/mediawiki/List_of_Pratchett_characters')"
   ]
  },
  {
   "cell_type": "code",
   "execution_count": 19,
   "metadata": {},
   "outputs": [
    {
     "output_type": "execute_result",
     "data": {
      "text/plain": "['http://wiki.lspace.org/mediawiki/Mrs._Cake',\n 'http://wiki.lspace.org/mediawiki/Fred_Colon',\n 'http://wiki.lspace.org/mediawiki/Mrs._Marietta_Cosmopilite',\n 'http://wiki.lspace.org/mediawiki/Detritus',\n 'http://wiki.lspace.org/mediawiki/Cut-Me-Own-Throat_Dibbler',\n 'http://wiki.lspace.org/mediawiki/Dorfl',\n 'http://wiki.lspace.org/mediawiki/Rufus_Drumknott',\n 'http://wiki.lspace.org/mediawiki/Gaspode',\n 'http://wiki.lspace.org/mediawiki/Carrot_Ironfoundersson',\n 'http://wiki.lspace.org/mediawiki/Leonard_of_Quirm',\n 'http://wiki.lspace.org/mediawiki/Cheery_Littlebottom',\n 'http://wiki.lspace.org/mediawiki/Nobby_Nobbs',\n 'http://wiki.lspace.org/mediawiki/Lady_Sybil_Ramkin',\n 'http://wiki.lspace.org/mediawiki/Foul_Ole_Ron',\n 'http://wiki.lspace.org/mediawiki/Reg_Shoe',\n 'http://wiki.lspace.org/mediawiki/Mr._Slant',\n 'http://wiki.lspace.org/mediawiki/Angua_von_%C3%9Cberwald',\n 'http://wiki.lspace.org/mediawiki/Havelock_Vetinari',\n 'http://wiki.lspace.org/mediawiki/Samuel_Vimes',\n 'http://wiki.lspace.org/mediawiki/Visit-the-Infidel-with-Explanatory-Pamphlets',\n 'http://wiki.lspace.org/mediawiki/Willikins']"
     },
     "metadata": {},
     "execution_count": 19
    }
   ],
   "source": [
    "links_test = bf_test.find('span',{'id':'Unseen_University_and_the_Wizards'}).parent.previous.previous.parent.parent.parent.find_all('li')\n",
    "links_test_list =  ['http://wiki.lspace.org' + li.find('a')['href'] for li in links_test]\n",
    "links_test_list"
   ]
  },
  {
   "cell_type": "code",
   "execution_count": 106,
   "metadata": {},
   "outputs": [],
   "source": [
    "bf_char_test = getSoup_test(links_test_list[1])"
   ]
  },
  {
   "cell_type": "code",
   "execution_count": 104,
   "metadata": {},
   "outputs": [],
   "source": [
    "books_list_test = bf_char_test.find('div', {'id':'mw-content-text'}).find('table').find(text = 'Books').parent.parent.parent.find_next_siblings('td')"
   ]
  },
  {
   "cell_type": "code",
   "execution_count": 108,
   "metadata": {},
   "outputs": [
    {
     "output_type": "execute_result",
     "data": {
      "text/plain": "[<i><a href=\"/mediawiki/Book:Guards!_Guards!\" title=\"Book:Guards! Guards!\">Guards! Guards!</a></i>,\n <i><a href=\"/mediawiki/Book:Men_at_Arms\" title=\"Book:Men at Arms\">Men at Arms</a></i>,\n <i><a href=\"/mediawiki/Book:Soul_Music\" title=\"Book:Soul Music\">Soul Music</a></i>,\n <i><a href=\"/mediawiki/Book:Feet_of_Clay\" title=\"Book:Feet of Clay\">Feet of Clay</a></i>,\n <i><a href=\"/mediawiki/Book:Jingo\" title=\"Book:Jingo\">Jingo</a></i>,\n <i><a href=\"/mediawiki/Book:The_Fifth_Elephant\" title=\"Book:The Fifth Elephant\">The Fifth Elephant</a></i>,\n <i><a href=\"/mediawiki/Book:The_Truth\" title=\"Book:The Truth\">The Truth</a></i>,\n <i><a href=\"/mediawiki/Book:The_Last_Hero\" title=\"Book:The Last Hero\">The Last Hero</a></i>,\n <i><a href=\"/mediawiki/Book:Night_Watch\" title=\"Book:Night Watch\">Night Watch</a></i>,\n <i><a href=\"/mediawiki/Book:Thud!\" title=\"Book:Thud!\">Thud!</a></i>]"
     },
     "metadata": {},
     "execution_count": 108
    }
   ],
   "source": [
    "bf_char_test.find('div', {'id':'mw-content-text'}).find('table').find(text = 'Books').parent.parent.parent.parent.findAll('i')"
   ]
  },
  {
   "cell_type": "code",
   "execution_count": null,
   "metadata": {},
   "outputs": [],
   "source": []
  },
  {
   "cell_type": "code",
   "execution_count": 37,
   "metadata": {},
   "outputs": [
    {
     "output_type": "execute_result",
     "data": {
      "text/plain": "[' Feet of ClayJingoThe Fifth ElephantThud!\\n']"
     },
     "metadata": {},
     "execution_count": 37
    }
   ],
   "source": [
    "[i.text for i in books_list_test]"
   ]
  },
  {
   "cell_type": "code",
   "execution_count": 109,
   "metadata": {},
   "outputs": [],
   "source": [
    "class BookTaker: \n",
    "    '''\n",
    "    Getting infos from webpage \n",
    "    '''\n",
    "    def __init__(self, link):\n",
    "        '''\n",
    "        Input link to search Books appered in \n",
    "        '''\n",
    "        self.link = link\n",
    "\n",
    "    def getSoup(self):\n",
    "        r = requests.get(self.link)\n",
    "        r.encoding = 'UTF-8'\n",
    "        return BeautifulSoup(r.text, 'html')\n",
    "    \n",
    "    def getBooks(self):\n",
    "        bf = self.getSoup()\n",
    "        books_list = bf.find('div', {'id':'mw-content-text'}).find('table').find(text = 'Books').parent.parent.parent.parent.findAll('i')\n",
    "        return [i.text.strip()  for i in books_list]\n",
    "    \n",
    "    def getName(self):\n",
    "        bf = self.getSoup()\n",
    "        name = bf.find('div', {'id':'mw-content-text'}).find('table').find('tr').text.strip()\n",
    "        return name"
   ]
  },
  {
   "cell_type": "code",
   "execution_count": 110,
   "metadata": {},
   "outputs": [
    {
     "output_type": "execute_result",
     "data": {
      "text/plain": "['Men at Arms',\n 'Feet of Clay',\n 'Jingo',\n 'The Fifth Elephant',\n 'Night Watch',\n 'Thud!',\n 'Snuff']"
     },
     "metadata": {},
     "execution_count": 110
    }
   ],
   "source": [
    "BookTaker(links_test_list[20]).getBooks()"
   ]
  },
  {
   "cell_type": "code",
   "execution_count": 111,
   "metadata": {},
   "outputs": [],
   "source": [
    "class Downloader:\n",
    "    '''\n",
    "    Download all links for bookchecker to initiate\n",
    "    '''\n",
    "    def __init__(self, link):\n",
    "        '''\n",
    "        Give link to extract links of given webpages\n",
    "        '''\n",
    "        self.link = link\n",
    "    \n",
    "    def getSoup(self):\n",
    "        r = requests.get(self.link)\n",
    "        r.encoding = 'UTF-8'\n",
    "        return BeautifulSoup(r.text, 'lxml')\n",
    "\n",
    "    def getLinks(self):\n",
    "        wp = self.getSoup()\n",
    "        links = wp.find('span',{'id':'Unseen_University_and_the_Wizards'}).parent.previous.previous.parent.parent.parent.find_all('li')\n",
    "        return ['http://wiki.lspace.org' + li.find('a')['href'] for li in links]\n",
    "\n",
    "    def getDataFrame(self):\n",
    "        links = self.getLinks()\n",
    "        name_list = [BookTaker(i).getName() for i in links]\n",
    "        books_list = [BookTaker(i).getBooks() for i in links]\n",
    "        return pd.DataFrame({\"Character\":name_list, \"Books\":books_list})\n",
    "        "
   ]
  },
  {
   "cell_type": "code",
   "execution_count": 112,
   "metadata": {},
   "outputs": [],
   "source": [
    "CharBookDF = Downloader('http://wiki.lspace.org/mediawiki/List_of_Pratchett_characters').getDataFrame()\n",
    ""
   ]
  },
  {
   "cell_type": "code",
   "execution_count": 113,
   "metadata": {},
   "outputs": [
    {
     "output_type": "execute_result",
     "data": {
      "text/plain": "                   Character  \\\n0                   Mrs Cake   \n1                 Fred Colon   \n2  Mrs. Marietta Cosmopilite   \n3                   Detritus   \n4  Cut-Me-Own-Throat Dibbler   \n\n                                               Books  \n0                          [Reaper Man, Men at Arms]  \n1  [Guards! Guards!, Men at Arms, Soul Music, Fee...  \n2                                  [Moving Pictures]  \n3  [Guards! Guards!, Moving Pictures, Men at Arms...  \n4  [Guards! Guards!, Moving Pictures, Reaper Man,...  ",
      "text/html": "<div>\n<style scoped>\n    .dataframe tbody tr th:only-of-type {\n        vertical-align: middle;\n    }\n\n    .dataframe tbody tr th {\n        vertical-align: top;\n    }\n\n    .dataframe thead th {\n        text-align: right;\n    }\n</style>\n<table border=\"1\" class=\"dataframe\">\n  <thead>\n    <tr style=\"text-align: right;\">\n      <th></th>\n      <th>Character</th>\n      <th>Books</th>\n    </tr>\n  </thead>\n  <tbody>\n    <tr>\n      <th>0</th>\n      <td>Mrs Cake</td>\n      <td>[Reaper Man, Men at Arms]</td>\n    </tr>\n    <tr>\n      <th>1</th>\n      <td>Fred Colon</td>\n      <td>[Guards! Guards!, Men at Arms, Soul Music, Fee...</td>\n    </tr>\n    <tr>\n      <th>2</th>\n      <td>Mrs. Marietta Cosmopilite</td>\n      <td>[Moving Pictures]</td>\n    </tr>\n    <tr>\n      <th>3</th>\n      <td>Detritus</td>\n      <td>[Guards! Guards!, Moving Pictures, Men at Arms...</td>\n    </tr>\n    <tr>\n      <th>4</th>\n      <td>Cut-Me-Own-Throat Dibbler</td>\n      <td>[Guards! Guards!, Moving Pictures, Reaper Man,...</td>\n    </tr>\n  </tbody>\n</table>\n</div>"
     },
     "metadata": {},
     "execution_count": 113
    }
   ],
   "source": [
    "CharBookDF.head()"
   ]
  },
  {
   "cell_type": "code",
   "execution_count": 134,
   "metadata": {},
   "outputs": [
    {
     "output_type": "execute_result",
     "data": {
      "text/plain": "                   Character                0                1            2  \\\n0                   Mrs Cake       Reaper Man      Men at Arms          NaN   \n1                 Fred Colon  Guards! Guards!      Men at Arms   Soul Music   \n2  Mrs. Marietta Cosmopilite  Moving Pictures              NaN          NaN   \n3                   Detritus  Guards! Guards!  Moving Pictures  Men at Arms   \n4  Cut-Me-Own-Throat Dibbler  Guards! Guards!  Moving Pictures   Reaper Man   \n\n              3          4                   5             6              7  \\\n0           NaN        NaN                 NaN           NaN            NaN   \n1  Feet of Clay      Jingo  The Fifth Elephant     The Truth  The Last Hero   \n2           NaN        NaN                 NaN           NaN            NaN   \n3  Feet of Clay      Jingo  The Fifth Elephant         Thud!            NaN   \n4    Soul Music  The Truth         Night Watch  Making Money            NaN   \n\n             8      9   10   11   12  \n0          NaN    NaN  NaN  NaN  NaN  \n1  Night Watch  Thud!  NaN  NaN  NaN  \n2          NaN    NaN  NaN  NaN  NaN  \n3          NaN    NaN  NaN  NaN  NaN  \n4          NaN    NaN  NaN  NaN  NaN  ",
      "text/html": "<div>\n<style scoped>\n    .dataframe tbody tr th:only-of-type {\n        vertical-align: middle;\n    }\n\n    .dataframe tbody tr th {\n        vertical-align: top;\n    }\n\n    .dataframe thead th {\n        text-align: right;\n    }\n</style>\n<table border=\"1\" class=\"dataframe\">\n  <thead>\n    <tr style=\"text-align: right;\">\n      <th></th>\n      <th>Character</th>\n      <th>0</th>\n      <th>1</th>\n      <th>2</th>\n      <th>3</th>\n      <th>4</th>\n      <th>5</th>\n      <th>6</th>\n      <th>7</th>\n      <th>8</th>\n      <th>9</th>\n      <th>10</th>\n      <th>11</th>\n      <th>12</th>\n    </tr>\n  </thead>\n  <tbody>\n    <tr>\n      <th>0</th>\n      <td>Mrs Cake</td>\n      <td>Reaper Man</td>\n      <td>Men at Arms</td>\n      <td>NaN</td>\n      <td>NaN</td>\n      <td>NaN</td>\n      <td>NaN</td>\n      <td>NaN</td>\n      <td>NaN</td>\n      <td>NaN</td>\n      <td>NaN</td>\n      <td>NaN</td>\n      <td>NaN</td>\n      <td>NaN</td>\n    </tr>\n    <tr>\n      <th>1</th>\n      <td>Fred Colon</td>\n      <td>Guards! Guards!</td>\n      <td>Men at Arms</td>\n      <td>Soul Music</td>\n      <td>Feet of Clay</td>\n      <td>Jingo</td>\n      <td>The Fifth Elephant</td>\n      <td>The Truth</td>\n      <td>The Last Hero</td>\n      <td>Night Watch</td>\n      <td>Thud!</td>\n      <td>NaN</td>\n      <td>NaN</td>\n      <td>NaN</td>\n    </tr>\n    <tr>\n      <th>2</th>\n      <td>Mrs. Marietta Cosmopilite</td>\n      <td>Moving Pictures</td>\n      <td>NaN</td>\n      <td>NaN</td>\n      <td>NaN</td>\n      <td>NaN</td>\n      <td>NaN</td>\n      <td>NaN</td>\n      <td>NaN</td>\n      <td>NaN</td>\n      <td>NaN</td>\n      <td>NaN</td>\n      <td>NaN</td>\n      <td>NaN</td>\n    </tr>\n    <tr>\n      <th>3</th>\n      <td>Detritus</td>\n      <td>Guards! Guards!</td>\n      <td>Moving Pictures</td>\n      <td>Men at Arms</td>\n      <td>Feet of Clay</td>\n      <td>Jingo</td>\n      <td>The Fifth Elephant</td>\n      <td>Thud!</td>\n      <td>NaN</td>\n      <td>NaN</td>\n      <td>NaN</td>\n      <td>NaN</td>\n      <td>NaN</td>\n      <td>NaN</td>\n    </tr>\n    <tr>\n      <th>4</th>\n      <td>Cut-Me-Own-Throat Dibbler</td>\n      <td>Guards! Guards!</td>\n      <td>Moving Pictures</td>\n      <td>Reaper Man</td>\n      <td>Soul Music</td>\n      <td>The Truth</td>\n      <td>Night Watch</td>\n      <td>Making Money</td>\n      <td>NaN</td>\n      <td>NaN</td>\n      <td>NaN</td>\n      <td>NaN</td>\n      <td>NaN</td>\n      <td>NaN</td>\n    </tr>\n  </tbody>\n</table>\n</div>"
     },
     "metadata": {},
     "execution_count": 134
    }
   ],
   "source": [
    "CharBookDF_ext = pd.concat([CharBookDF['Character'], CharBookDF['Books'].apply(pd.Series)], axis = 1)\n",
    "CharBookDF_ext.head()"
   ]
  },
  {
   "cell_type": "code",
   "execution_count": null,
   "metadata": {},
   "outputs": [],
   "source": []
  }
 ]
}