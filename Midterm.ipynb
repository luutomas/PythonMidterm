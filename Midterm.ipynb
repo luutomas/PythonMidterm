{
 "nbformat": 4,
 "nbformat_minor": 2,
 "metadata": {
  "language_info": {
   "name": "python",
   "codemirror_mode": {
    "name": "ipython",
    "version": 3
   },
   "version": "3.7.3-final"
  },
  "orig_nbformat": 2,
  "file_extension": ".py",
  "mimetype": "text/x-python",
  "name": "python",
  "npconvert_exporter": "python",
  "pygments_lexer": "ipython3",
  "version": 3,
  "kernelspec": {
   "name": "python3",
   "display_name": "Python 3"
  }
 },
 "cells": [
  {
   "cell_type": "code",
   "execution_count": 2,
   "metadata": {},
   "outputs": [],
   "source": [
    "import numpy as np \n",
    "import pandas as pd \n",
    "import requests\n",
    "from bs4 import BeautifulSoup\n",
    "import pandas as pd\n",
    "import tqdm as tqdm\n",
    "from lxml import html\n",
    "import matplotlib.pyplot as plt\n",
    "import time"
   ]
  },
  {
   "cell_type": "code",
   "execution_count": null,
   "metadata": {},
   "outputs": [],
   "source": []
  },
  {
   "cell_type": "code",
   "execution_count": 16,
   "metadata": {},
   "outputs": [],
   "source": [
    "def getSoup_test(link):\n",
    "        r = requests.get(link)\n",
    "        r.encoding = 'UTF-8'\n",
    "        return BeautifulSoup(r.text, 'html')"
   ]
  },
  {
   "cell_type": "code",
   "execution_count": 17,
   "metadata": {},
   "outputs": [],
   "source": [
    "bf_test = getSoup_test('http://wiki.lspace.org/mediawiki/List_of_Pratchett_characters')"
   ]
  },
  {
   "cell_type": "code",
   "execution_count": 19,
   "metadata": {},
   "outputs": [
    {
     "output_type": "execute_result",
     "data": {
      "text/plain": "['http://wiki.lspace.org/mediawiki/Mrs._Cake',\n 'http://wiki.lspace.org/mediawiki/Fred_Colon',\n 'http://wiki.lspace.org/mediawiki/Mrs._Marietta_Cosmopilite',\n 'http://wiki.lspace.org/mediawiki/Detritus',\n 'http://wiki.lspace.org/mediawiki/Cut-Me-Own-Throat_Dibbler',\n 'http://wiki.lspace.org/mediawiki/Dorfl',\n 'http://wiki.lspace.org/mediawiki/Rufus_Drumknott',\n 'http://wiki.lspace.org/mediawiki/Gaspode',\n 'http://wiki.lspace.org/mediawiki/Carrot_Ironfoundersson',\n 'http://wiki.lspace.org/mediawiki/Leonard_of_Quirm',\n 'http://wiki.lspace.org/mediawiki/Cheery_Littlebottom',\n 'http://wiki.lspace.org/mediawiki/Nobby_Nobbs',\n 'http://wiki.lspace.org/mediawiki/Lady_Sybil_Ramkin',\n 'http://wiki.lspace.org/mediawiki/Foul_Ole_Ron',\n 'http://wiki.lspace.org/mediawiki/Reg_Shoe',\n 'http://wiki.lspace.org/mediawiki/Mr._Slant',\n 'http://wiki.lspace.org/mediawiki/Angua_von_%C3%9Cberwald',\n 'http://wiki.lspace.org/mediawiki/Havelock_Vetinari',\n 'http://wiki.lspace.org/mediawiki/Samuel_Vimes',\n 'http://wiki.lspace.org/mediawiki/Visit-the-Infidel-with-Explanatory-Pamphlets',\n 'http://wiki.lspace.org/mediawiki/Willikins']"
     },
     "metadata": {},
     "execution_count": 19
    }
   ],
   "source": [
    "links_test = bf_test.find('span',{'id':'Unseen_University_and_the_Wizards'}).parent.previous.previous.parent.parent.parent.find_all('li')\n",
    "links_test_list =  ['http://wiki.lspace.org' + li.find('a')['href'] for li in links_test]\n",
    "links_test_list"
   ]
  },
  {
   "cell_type": "code",
   "execution_count": 106,
   "metadata": {},
   "outputs": [],
   "source": [
    "bf_char_test = getSoup_test(links_test_list[1])"
   ]
  },
  {
   "cell_type": "code",
   "execution_count": 104,
   "metadata": {},
   "outputs": [],
   "source": [
    "books_list_test = bf_char_test.find('div', {'id':'mw-content-text'}).find('table').find(text = 'Books').parent.parent.parent.find_next_siblings('td')"
   ]
  },
  {
   "cell_type": "code",
   "execution_count": 108,
   "metadata": {},
   "outputs": [
    {
     "output_type": "execute_result",
     "data": {
      "text/plain": "[<i><a href=\"/mediawiki/Book:Guards!_Guards!\" title=\"Book:Guards! Guards!\">Guards! Guards!</a></i>,\n <i><a href=\"/mediawiki/Book:Men_at_Arms\" title=\"Book:Men at Arms\">Men at Arms</a></i>,\n <i><a href=\"/mediawiki/Book:Soul_Music\" title=\"Book:Soul Music\">Soul Music</a></i>,\n <i><a href=\"/mediawiki/Book:Feet_of_Clay\" title=\"Book:Feet of Clay\">Feet of Clay</a></i>,\n <i><a href=\"/mediawiki/Book:Jingo\" title=\"Book:Jingo\">Jingo</a></i>,\n <i><a href=\"/mediawiki/Book:The_Fifth_Elephant\" title=\"Book:The Fifth Elephant\">The Fifth Elephant</a></i>,\n <i><a href=\"/mediawiki/Book:The_Truth\" title=\"Book:The Truth\">The Truth</a></i>,\n <i><a href=\"/mediawiki/Book:The_Last_Hero\" title=\"Book:The Last Hero\">The Last Hero</a></i>,\n <i><a href=\"/mediawiki/Book:Night_Watch\" title=\"Book:Night Watch\">Night Watch</a></i>,\n <i><a href=\"/mediawiki/Book:Thud!\" title=\"Book:Thud!\">Thud!</a></i>]"
     },
     "metadata": {},
     "execution_count": 108
    }
   ],
   "source": [
    "bf_char_test.find('div', {'id':'mw-content-text'}).find('table').find(text = 'Books').parent.parent.parent.parent.findAll('i')"
   ]
  },
  {
   "cell_type": "code",
   "execution_count": null,
   "metadata": {},
   "outputs": [],
   "source": []
  },
  {
   "cell_type": "code",
   "execution_count": 37,
   "metadata": {},
   "outputs": [
    {
     "output_type": "execute_result",
     "data": {
      "text/plain": "[' Feet of ClayJingoThe Fifth ElephantThud!\\n']"
     },
     "metadata": {},
     "execution_count": 37
    }
   ],
   "source": [
    "[i.text for i in books_list_test]"
   ]
  },
  {
   "cell_type": "code",
   "execution_count": 109,
   "metadata": {},
   "outputs": [],
   "source": [
    "class BookTaker: \n",
    "    '''\n",
    "    Getting infos from webpage \n",
    "    '''\n",
    "    def __init__(self, link):\n",
    "        '''\n",
    "        Input link to search Books appered in \n",
    "        '''\n",
    "        self.link = link\n",
    "\n",
    "    def getSoup(self):\n",
    "        r = requests.get(self.link)\n",
    "        r.encoding = 'UTF-8'\n",
    "        return BeautifulSoup(r.text, 'html')\n",
    "    \n",
    "    def getBooks(self):\n",
    "        bf = self.getSoup()\n",
    "        books_list = bf.find('div', {'id':'mw-content-text'}).find('table').find(text = 'Books').parent.parent.parent.parent.findAll('i')\n",
    "        return [i.text.strip()  for i in books_list]\n",
    "    \n",
    "    def getName(self):\n",
    "        bf = self.getSoup()\n",
    "        name = bf.find('div', {'id':'mw-content-text'}).find('table').find('tr').text.strip()\n",
    "        return name"
   ]
  },
  {
   "cell_type": "code",
   "execution_count": 110,
   "metadata": {},
   "outputs": [
    {
     "output_type": "execute_result",
     "data": {
      "text/plain": "['Men at Arms',\n 'Feet of Clay',\n 'Jingo',\n 'The Fifth Elephant',\n 'Night Watch',\n 'Thud!',\n 'Snuff']"
     },
     "metadata": {},
     "execution_count": 110
    }
   ],
   "source": [
    "BookTaker(links_test_list[20]).getBooks()"
   ]
  },
  {
   "cell_type": "code",
   "execution_count": 111,
   "metadata": {},
   "outputs": [],
   "source": [
    "class Downloader:\n",
    "    '''\n",
    "    Download all links for bookchecker to initiate\n",
    "    '''\n",
    "    def __init__(self, link):\n",
    "        '''\n",
    "        Give link to extract links of given webpages\n",
    "        '''\n",
    "        self.link = link\n",
    "    \n",
    "    def getSoup(self):\n",
    "        r = requests.get(self.link)\n",
    "        r.encoding = 'UTF-8'\n",
    "        return BeautifulSoup(r.text, 'lxml')\n",
    "\n",
    "    def getLinks(self):\n",
    "        wp = self.getSoup()\n",
    "        links = wp.find('span',{'id':'Unseen_University_and_the_Wizards'}).parent.previous.previous.parent.parent.parent.find_all('li')\n",
    "        return ['http://wiki.lspace.org' + li.find('a')['href'] for li in links]\n",
    "\n",
    "    def getDataFrame(self):\n",
    "        links = self.getLinks()\n",
    "        name_list = [BookTaker(i).getName() for i in links]\n",
    "        books_list = [BookTaker(i).getBooks() for i in links]\n",
    "        return pd.DataFrame({\"Character\":name_list, \"Books\":books_list})\n",
    "        "
   ]
  },
  {
   "cell_type": "code",
   "execution_count": 112,
   "metadata": {},
   "outputs": [],
   "source": [
    "CharBookDF = Downloader('http://wiki.lspace.org/mediawiki/List_of_Pratchett_characters').getDataFrame()\n",
    ""
   ]
  },
  {
   "cell_type": "code",
   "execution_count": 113,
   "metadata": {},
   "outputs": [
    {
     "output_type": "execute_result",
     "data": {
      "text/plain": "                   Character  \\\n0                   Mrs Cake   \n1                 Fred Colon   \n2  Mrs. Marietta Cosmopilite   \n3                   Detritus   \n4  Cut-Me-Own-Throat Dibbler   \n\n                                               Books  \n0                          [Reaper Man, Men at Arms]  \n1  [Guards! Guards!, Men at Arms, Soul Music, Fee...  \n2                                  [Moving Pictures]  \n3  [Guards! Guards!, Moving Pictures, Men at Arms...  \n4  [Guards! Guards!, Moving Pictures, Reaper Man,...  ",
      "text/html": "<div>\n<style scoped>\n    .dataframe tbody tr th:only-of-type {\n        vertical-align: middle;\n    }\n\n    .dataframe tbody tr th {\n        vertical-align: top;\n    }\n\n    .dataframe thead th {\n        text-align: right;\n    }\n</style>\n<table border=\"1\" class=\"dataframe\">\n  <thead>\n    <tr style=\"text-align: right;\">\n      <th></th>\n      <th>Character</th>\n      <th>Books</th>\n    </tr>\n  </thead>\n  <tbody>\n    <tr>\n      <th>0</th>\n      <td>Mrs Cake</td>\n      <td>[Reaper Man, Men at Arms]</td>\n    </tr>\n    <tr>\n      <th>1</th>\n      <td>Fred Colon</td>\n      <td>[Guards! Guards!, Men at Arms, Soul Music, Fee...</td>\n    </tr>\n    <tr>\n      <th>2</th>\n      <td>Mrs. Marietta Cosmopilite</td>\n      <td>[Moving Pictures]</td>\n    </tr>\n    <tr>\n      <th>3</th>\n      <td>Detritus</td>\n      <td>[Guards! Guards!, Moving Pictures, Men at Arms...</td>\n    </tr>\n    <tr>\n      <th>4</th>\n      <td>Cut-Me-Own-Throat Dibbler</td>\n      <td>[Guards! Guards!, Moving Pictures, Reaper Man,...</td>\n    </tr>\n  </tbody>\n</table>\n</div>"
     },
     "metadata": {},
     "execution_count": 113
    }
   ],
   "source": [
    "CharBookDF.head()"
   ]
  },
  {
   "cell_type": "code",
   "execution_count": 156,
   "metadata": {},
   "outputs": [
    {
     "output_type": "execute_result",
     "data": {
      "text/plain": "                                          Character                0  \\\n0                                          Mrs Cake       Reaper Man   \n1                                        Fred Colon  Guards! Guards!   \n2                         Mrs. Marietta Cosmopilite  Moving Pictures   \n3                                          Detritus  Guards! Guards!   \n4                         Cut-Me-Own-Throat Dibbler  Guards! Guards!   \n5                                             Dorfl     Feet of Clay   \n6                                   Rufus Drumknott     Feet of Clay   \n7                                           Gaspode  Moving Pictures   \n8                                            Carrot  Guards! Guards!   \n9                                  Leonard of Quirm     Wyrd Sisters   \n10                                           Cheery     Feet of Clay   \n11                                      Nobby Nobbs              NaN   \n12  Lady Sybil Vimes, (née Ramkin,) Duchess of Ankh  Guards! Guards!   \n13                                     Foul Ole Ron      Men at Arms   \n14                                         Reg Shoe       Reaper Man   \n15                                        Mr. Slant     Feet of Clay   \n16                                            Angua      Men at Arms   \n17                                         Vetinari         Sourcery   \n18                                            Vimes  Guards! Guards!   \n19                                  Constable Visit     Feet of Clay   \n20                                        Willikins      Men at Arms   \n\n                  1                   2                   3  \\\n0       Men at Arms                 NaN                 NaN   \n1       Men at Arms          Soul Music        Feet of Clay   \n2               NaN                 NaN                 NaN   \n3   Moving Pictures         Men at Arms        Feet of Clay   \n4   Moving Pictures          Reaper Man          Soul Music   \n5               NaN                 NaN                 NaN   \n6             Jingo  The Fifth Elephant           The Truth   \n7       Men at Arms  The Fifth Elephant           The Truth   \n8       Men at Arms        Feet of Clay               Jingo   \n9       Men at Arms               Jingo  The Fifth Elephant   \n10            Jingo  The Fifth Elephant               Thud!   \n11              NaN                 NaN                 NaN   \n12      Men at Arms        Feet of Clay               Jingo   \n13     Feet of Clay           Hogfather           Hogfather   \n14              NaN                 NaN                 NaN   \n15            Jingo           The Truth        Going Postal   \n16     Feet of Clay               Jingo  The Fifth Elephant   \n17  Guards! Guards!     Moving Pictures         Men at Arms   \n18      Men at Arms        Feet of Clay               Jingo   \n19            Jingo           Hogfather           Hogfather   \n20     Feet of Clay               Jingo  The Fifth Elephant   \n\n                     4                   5                   6              7  \\\n0                  NaN                 NaN                 NaN            NaN   \n1                Jingo  The Fifth Elephant           The Truth  The Last Hero   \n2                  NaN                 NaN                 NaN            NaN   \n3                Jingo  The Fifth Elephant               Thud!            NaN   \n4            The Truth         Night Watch        Making Money            NaN   \n5                  NaN                 NaN                 NaN            NaN   \n6          Night Watch        Going Postal        Making Money          Thud!   \n7       Discworld Noir                 NaN                 NaN            NaN   \n8   The Fifth Elephant           The Truth       The Last Hero    Night Watch   \n9        The Last Hero      Discworld Noir                 NaN            NaN   \n10                 NaN                 NaN                 NaN            NaN   \n11                 NaN                 NaN                 NaN            NaN   \n12  The Fifth Elephant         Night Watch               Thud!          Snuff   \n13               Jingo           The Truth                 NaN            NaN   \n14                 NaN                 NaN                 NaN            NaN   \n15        Making Money                 NaN                 NaN            NaN   \n16         Night Watch               Thud!               Snuff            NaN   \n17   Interesting Times        Feet of Clay  The Fifth Elephant      The Truth   \n18  The Fifth Elephant         Night Watch  Monstrous Regiment          Thud!   \n19  The Fifth Elephant               Thud!                 NaN            NaN   \n20         Night Watch               Thud!               Snuff            NaN   \n\n                       8               9             10                  11  \\\n0                    NaN             NaN            NaN                 NaN   \n1            Night Watch           Thud!            NaN                 NaN   \n2                    NaN             NaN            NaN                 NaN   \n3                    NaN             NaN            NaN                 NaN   \n4                    NaN             NaN            NaN                 NaN   \n5                    NaN             NaN            NaN                 NaN   \n6     Unseen Academicals           Snuff  Raising Steam                 NaN   \n7                    NaN             NaN            NaN                 NaN   \n8                  Thud!           Snuff            NaN                 NaN   \n9                    NaN             NaN            NaN                 NaN   \n10                   NaN             NaN            NaN                 NaN   \n11                   NaN             NaN            NaN                 NaN   \n12                   NaN             NaN            NaN                 NaN   \n13                   NaN             NaN            NaN                 NaN   \n14                   NaN             NaN            NaN                 NaN   \n15                   NaN             NaN            NaN                 NaN   \n16                   NaN             NaN            NaN                 NaN   \n17          Going Postal           Thud!   Making Money  Unseen Academicals   \n18  Where's My Cow?Snuff  Discworld Noir            NaN                 NaN   \n19                   NaN             NaN            NaN                 NaN   \n20                   NaN             NaN            NaN                 NaN   \n\n               12  \n0             NaN  \n1             NaN  \n2             NaN  \n3             NaN  \n4             NaN  \n5             NaN  \n6             NaN  \n7             NaN  \n8             NaN  \n9             NaN  \n10            NaN  \n11            NaN  \n12            NaN  \n13            NaN  \n14            NaN  \n15            NaN  \n16            NaN  \n17  Raising Steam  \n18            NaN  \n19            NaN  \n20            NaN  ",
      "text/html": "<div>\n<style scoped>\n    .dataframe tbody tr th:only-of-type {\n        vertical-align: middle;\n    }\n\n    .dataframe tbody tr th {\n        vertical-align: top;\n    }\n\n    .dataframe thead th {\n        text-align: right;\n    }\n</style>\n<table border=\"1\" class=\"dataframe\">\n  <thead>\n    <tr style=\"text-align: right;\">\n      <th></th>\n      <th>Character</th>\n      <th>0</th>\n      <th>1</th>\n      <th>2</th>\n      <th>3</th>\n      <th>4</th>\n      <th>5</th>\n      <th>6</th>\n      <th>7</th>\n      <th>8</th>\n      <th>9</th>\n      <th>10</th>\n      <th>11</th>\n      <th>12</th>\n    </tr>\n  </thead>\n  <tbody>\n    <tr>\n      <th>0</th>\n      <td>Mrs Cake</td>\n      <td>Reaper Man</td>\n      <td>Men at Arms</td>\n      <td>NaN</td>\n      <td>NaN</td>\n      <td>NaN</td>\n      <td>NaN</td>\n      <td>NaN</td>\n      <td>NaN</td>\n      <td>NaN</td>\n      <td>NaN</td>\n      <td>NaN</td>\n      <td>NaN</td>\n      <td>NaN</td>\n    </tr>\n    <tr>\n      <th>1</th>\n      <td>Fred Colon</td>\n      <td>Guards! Guards!</td>\n      <td>Men at Arms</td>\n      <td>Soul Music</td>\n      <td>Feet of Clay</td>\n      <td>Jingo</td>\n      <td>The Fifth Elephant</td>\n      <td>The Truth</td>\n      <td>The Last Hero</td>\n      <td>Night Watch</td>\n      <td>Thud!</td>\n      <td>NaN</td>\n      <td>NaN</td>\n      <td>NaN</td>\n    </tr>\n    <tr>\n      <th>2</th>\n      <td>Mrs. Marietta Cosmopilite</td>\n      <td>Moving Pictures</td>\n      <td>NaN</td>\n      <td>NaN</td>\n      <td>NaN</td>\n      <td>NaN</td>\n      <td>NaN</td>\n      <td>NaN</td>\n      <td>NaN</td>\n      <td>NaN</td>\n      <td>NaN</td>\n      <td>NaN</td>\n      <td>NaN</td>\n      <td>NaN</td>\n    </tr>\n    <tr>\n      <th>3</th>\n      <td>Detritus</td>\n      <td>Guards! Guards!</td>\n      <td>Moving Pictures</td>\n      <td>Men at Arms</td>\n      <td>Feet of Clay</td>\n      <td>Jingo</td>\n      <td>The Fifth Elephant</td>\n      <td>Thud!</td>\n      <td>NaN</td>\n      <td>NaN</td>\n      <td>NaN</td>\n      <td>NaN</td>\n      <td>NaN</td>\n      <td>NaN</td>\n    </tr>\n    <tr>\n      <th>4</th>\n      <td>Cut-Me-Own-Throat Dibbler</td>\n      <td>Guards! Guards!</td>\n      <td>Moving Pictures</td>\n      <td>Reaper Man</td>\n      <td>Soul Music</td>\n      <td>The Truth</td>\n      <td>Night Watch</td>\n      <td>Making Money</td>\n      <td>NaN</td>\n      <td>NaN</td>\n      <td>NaN</td>\n      <td>NaN</td>\n      <td>NaN</td>\n      <td>NaN</td>\n    </tr>\n    <tr>\n      <th>5</th>\n      <td>Dorfl</td>\n      <td>Feet of Clay</td>\n      <td>NaN</td>\n      <td>NaN</td>\n      <td>NaN</td>\n      <td>NaN</td>\n      <td>NaN</td>\n      <td>NaN</td>\n      <td>NaN</td>\n      <td>NaN</td>\n      <td>NaN</td>\n      <td>NaN</td>\n      <td>NaN</td>\n      <td>NaN</td>\n    </tr>\n    <tr>\n      <th>6</th>\n      <td>Rufus Drumknott</td>\n      <td>Feet of Clay</td>\n      <td>Jingo</td>\n      <td>The Fifth Elephant</td>\n      <td>The Truth</td>\n      <td>Night Watch</td>\n      <td>Going Postal</td>\n      <td>Making Money</td>\n      <td>Thud!</td>\n      <td>Unseen Academicals</td>\n      <td>Snuff</td>\n      <td>Raising Steam</td>\n      <td>NaN</td>\n      <td>NaN</td>\n    </tr>\n    <tr>\n      <th>7</th>\n      <td>Gaspode</td>\n      <td>Moving Pictures</td>\n      <td>Men at Arms</td>\n      <td>The Fifth Elephant</td>\n      <td>The Truth</td>\n      <td>Discworld Noir</td>\n      <td>NaN</td>\n      <td>NaN</td>\n      <td>NaN</td>\n      <td>NaN</td>\n      <td>NaN</td>\n      <td>NaN</td>\n      <td>NaN</td>\n      <td>NaN</td>\n    </tr>\n    <tr>\n      <th>8</th>\n      <td>Carrot</td>\n      <td>Guards! Guards!</td>\n      <td>Men at Arms</td>\n      <td>Feet of Clay</td>\n      <td>Jingo</td>\n      <td>The Fifth Elephant</td>\n      <td>The Truth</td>\n      <td>The Last Hero</td>\n      <td>Night Watch</td>\n      <td>Thud!</td>\n      <td>Snuff</td>\n      <td>NaN</td>\n      <td>NaN</td>\n      <td>NaN</td>\n    </tr>\n    <tr>\n      <th>9</th>\n      <td>Leonard of Quirm</td>\n      <td>Wyrd Sisters</td>\n      <td>Men at Arms</td>\n      <td>Jingo</td>\n      <td>The Fifth Elephant</td>\n      <td>The Last Hero</td>\n      <td>Discworld Noir</td>\n      <td>NaN</td>\n      <td>NaN</td>\n      <td>NaN</td>\n      <td>NaN</td>\n      <td>NaN</td>\n      <td>NaN</td>\n      <td>NaN</td>\n    </tr>\n    <tr>\n      <th>10</th>\n      <td>Cheery</td>\n      <td>Feet of Clay</td>\n      <td>Jingo</td>\n      <td>The Fifth Elephant</td>\n      <td>Thud!</td>\n      <td>NaN</td>\n      <td>NaN</td>\n      <td>NaN</td>\n      <td>NaN</td>\n      <td>NaN</td>\n      <td>NaN</td>\n      <td>NaN</td>\n      <td>NaN</td>\n      <td>NaN</td>\n    </tr>\n    <tr>\n      <th>11</th>\n      <td>Nobby Nobbs</td>\n      <td>NaN</td>\n      <td>NaN</td>\n      <td>NaN</td>\n      <td>NaN</td>\n      <td>NaN</td>\n      <td>NaN</td>\n      <td>NaN</td>\n      <td>NaN</td>\n      <td>NaN</td>\n      <td>NaN</td>\n      <td>NaN</td>\n      <td>NaN</td>\n      <td>NaN</td>\n    </tr>\n    <tr>\n      <th>12</th>\n      <td>Lady Sybil Vimes, (née Ramkin,) Duchess of Ankh</td>\n      <td>Guards! Guards!</td>\n      <td>Men at Arms</td>\n      <td>Feet of Clay</td>\n      <td>Jingo</td>\n      <td>The Fifth Elephant</td>\n      <td>Night Watch</td>\n      <td>Thud!</td>\n      <td>Snuff</td>\n      <td>NaN</td>\n      <td>NaN</td>\n      <td>NaN</td>\n      <td>NaN</td>\n      <td>NaN</td>\n    </tr>\n    <tr>\n      <th>13</th>\n      <td>Foul Ole Ron</td>\n      <td>Men at Arms</td>\n      <td>Feet of Clay</td>\n      <td>Hogfather</td>\n      <td>Hogfather</td>\n      <td>Jingo</td>\n      <td>The Truth</td>\n      <td>NaN</td>\n      <td>NaN</td>\n      <td>NaN</td>\n      <td>NaN</td>\n      <td>NaN</td>\n      <td>NaN</td>\n      <td>NaN</td>\n    </tr>\n    <tr>\n      <th>14</th>\n      <td>Reg Shoe</td>\n      <td>Reaper Man</td>\n      <td>NaN</td>\n      <td>NaN</td>\n      <td>NaN</td>\n      <td>NaN</td>\n      <td>NaN</td>\n      <td>NaN</td>\n      <td>NaN</td>\n      <td>NaN</td>\n      <td>NaN</td>\n      <td>NaN</td>\n      <td>NaN</td>\n      <td>NaN</td>\n    </tr>\n    <tr>\n      <th>15</th>\n      <td>Mr. Slant</td>\n      <td>Feet of Clay</td>\n      <td>Jingo</td>\n      <td>The Truth</td>\n      <td>Going Postal</td>\n      <td>Making Money</td>\n      <td>NaN</td>\n      <td>NaN</td>\n      <td>NaN</td>\n      <td>NaN</td>\n      <td>NaN</td>\n      <td>NaN</td>\n      <td>NaN</td>\n      <td>NaN</td>\n    </tr>\n    <tr>\n      <th>16</th>\n      <td>Angua</td>\n      <td>Men at Arms</td>\n      <td>Feet of Clay</td>\n      <td>Jingo</td>\n      <td>The Fifth Elephant</td>\n      <td>Night Watch</td>\n      <td>Thud!</td>\n      <td>Snuff</td>\n      <td>NaN</td>\n      <td>NaN</td>\n      <td>NaN</td>\n      <td>NaN</td>\n      <td>NaN</td>\n      <td>NaN</td>\n    </tr>\n    <tr>\n      <th>17</th>\n      <td>Vetinari</td>\n      <td>Sourcery</td>\n      <td>Guards! Guards!</td>\n      <td>Moving Pictures</td>\n      <td>Men at Arms</td>\n      <td>Interesting Times</td>\n      <td>Feet of Clay</td>\n      <td>The Fifth Elephant</td>\n      <td>The Truth</td>\n      <td>Going Postal</td>\n      <td>Thud!</td>\n      <td>Making Money</td>\n      <td>Unseen Academicals</td>\n      <td>Raising Steam</td>\n    </tr>\n    <tr>\n      <th>18</th>\n      <td>Vimes</td>\n      <td>Guards! Guards!</td>\n      <td>Men at Arms</td>\n      <td>Feet of Clay</td>\n      <td>Jingo</td>\n      <td>The Fifth Elephant</td>\n      <td>Night Watch</td>\n      <td>Monstrous Regiment</td>\n      <td>Thud!</td>\n      <td>Where's My Cow?Snuff</td>\n      <td>Discworld Noir</td>\n      <td>NaN</td>\n      <td>NaN</td>\n      <td>NaN</td>\n    </tr>\n    <tr>\n      <th>19</th>\n      <td>Constable Visit</td>\n      <td>Feet of Clay</td>\n      <td>Jingo</td>\n      <td>Hogfather</td>\n      <td>Hogfather</td>\n      <td>The Fifth Elephant</td>\n      <td>Thud!</td>\n      <td>NaN</td>\n      <td>NaN</td>\n      <td>NaN</td>\n      <td>NaN</td>\n      <td>NaN</td>\n      <td>NaN</td>\n      <td>NaN</td>\n    </tr>\n    <tr>\n      <th>20</th>\n      <td>Willikins</td>\n      <td>Men at Arms</td>\n      <td>Feet of Clay</td>\n      <td>Jingo</td>\n      <td>The Fifth Elephant</td>\n      <td>Night Watch</td>\n      <td>Thud!</td>\n      <td>Snuff</td>\n      <td>NaN</td>\n      <td>NaN</td>\n      <td>NaN</td>\n      <td>NaN</td>\n      <td>NaN</td>\n      <td>NaN</td>\n    </tr>\n  </tbody>\n</table>\n</div>"
     },
     "metadata": {},
     "execution_count": 156
    }
   ],
   "source": [
    "CharBookDF_ext = pd.concat([CharBookDF['Character'], CharBookDF['Books'].apply(pd.Series)], axis = 1)\n",
    "CharBookDF_ext"
   ]
  },
  {
   "cell_type": "code",
   "execution_count": 149,
   "metadata": {},
   "outputs": [
    {
     "output_type": "execute_result",
     "data": {
      "text/plain": "1    12\n0     9\ndtype: int64"
     },
     "metadata": {},
     "execution_count": 149
    }
   ],
   "source": [
    "(CharBookDF_ext == 'Men at Arms').sum(axis = 1).value_counts()"
   ]
  },
  {
   "cell_type": "markdown",
   "metadata": {},
   "source": [
    "12 characters appeared in Men at Arms"
   ]
  },
  {
   "cell_type": "code",
   "execution_count": 158,
   "metadata": {},
   "outputs": [
    {
     "output_type": "error",
     "ename": "KeyError",
     "evalue": "\"None of [Index(['Mrs Cake'], dtype='object')] are in the [index]\"",
     "traceback": [
      "\u001b[0;31m---------------------------------------------------------------------------\u001b[0m",
      "\u001b[0;31mKeyError\u001b[0m                                  Traceback (most recent call last)",
      "\u001b[0;32m<ipython-input-158-8509b6d612c7>\u001b[0m in \u001b[0;36m<module>\u001b[0;34m\u001b[0m\n\u001b[0;32m----> 1\u001b[0;31m \u001b[0mCharBookDF\u001b[0m\u001b[0;34m.\u001b[0m\u001b[0mloc\u001b[0m\u001b[0;34m[\u001b[0m\u001b[0;34m[\u001b[0m\u001b[0;34m'Mrs Cake'\u001b[0m\u001b[0;34m]\u001b[0m\u001b[0;34m]\u001b[0m\u001b[0;34m\u001b[0m\u001b[0;34m\u001b[0m\u001b[0m\n\u001b[0m",
      "\u001b[0;32m~/anaconda3/lib/python3.7/site-packages/pandas/core/indexing.py\u001b[0m in \u001b[0;36m__getitem__\u001b[0;34m(self, key)\u001b[0m\n\u001b[1;32m   1498\u001b[0m \u001b[0;34m\u001b[0m\u001b[0m\n\u001b[1;32m   1499\u001b[0m             \u001b[0mmaybe_callable\u001b[0m \u001b[0;34m=\u001b[0m \u001b[0mcom\u001b[0m\u001b[0;34m.\u001b[0m\u001b[0mapply_if_callable\u001b[0m\u001b[0;34m(\u001b[0m\u001b[0mkey\u001b[0m\u001b[0;34m,\u001b[0m \u001b[0mself\u001b[0m\u001b[0;34m.\u001b[0m\u001b[0mobj\u001b[0m\u001b[0;34m)\u001b[0m\u001b[0;34m\u001b[0m\u001b[0;34m\u001b[0m\u001b[0m\n\u001b[0;32m-> 1500\u001b[0;31m             \u001b[0;32mreturn\u001b[0m \u001b[0mself\u001b[0m\u001b[0;34m.\u001b[0m\u001b[0m_getitem_axis\u001b[0m\u001b[0;34m(\u001b[0m\u001b[0mmaybe_callable\u001b[0m\u001b[0;34m,\u001b[0m \u001b[0maxis\u001b[0m\u001b[0;34m=\u001b[0m\u001b[0maxis\u001b[0m\u001b[0;34m)\u001b[0m\u001b[0;34m\u001b[0m\u001b[0;34m\u001b[0m\u001b[0m\n\u001b[0m\u001b[1;32m   1501\u001b[0m \u001b[0;34m\u001b[0m\u001b[0m\n\u001b[1;32m   1502\u001b[0m     \u001b[0;32mdef\u001b[0m \u001b[0m_is_scalar_access\u001b[0m\u001b[0;34m(\u001b[0m\u001b[0mself\u001b[0m\u001b[0;34m,\u001b[0m \u001b[0mkey\u001b[0m\u001b[0;34m)\u001b[0m\u001b[0;34m:\u001b[0m\u001b[0;34m\u001b[0m\u001b[0;34m\u001b[0m\u001b[0m\n",
      "\u001b[0;32m~/anaconda3/lib/python3.7/site-packages/pandas/core/indexing.py\u001b[0m in \u001b[0;36m_getitem_axis\u001b[0;34m(self, key, axis)\u001b[0m\n\u001b[1;32m   1900\u001b[0m                     \u001b[0;32mraise\u001b[0m \u001b[0mValueError\u001b[0m\u001b[0;34m(\u001b[0m\u001b[0;34m'Cannot index with multidimensional key'\u001b[0m\u001b[0;34m)\u001b[0m\u001b[0;34m\u001b[0m\u001b[0;34m\u001b[0m\u001b[0m\n\u001b[1;32m   1901\u001b[0m \u001b[0;34m\u001b[0m\u001b[0m\n\u001b[0;32m-> 1902\u001b[0;31m                 \u001b[0;32mreturn\u001b[0m \u001b[0mself\u001b[0m\u001b[0;34m.\u001b[0m\u001b[0m_getitem_iterable\u001b[0m\u001b[0;34m(\u001b[0m\u001b[0mkey\u001b[0m\u001b[0;34m,\u001b[0m \u001b[0maxis\u001b[0m\u001b[0;34m=\u001b[0m\u001b[0maxis\u001b[0m\u001b[0;34m)\u001b[0m\u001b[0;34m\u001b[0m\u001b[0;34m\u001b[0m\u001b[0m\n\u001b[0m\u001b[1;32m   1903\u001b[0m \u001b[0;34m\u001b[0m\u001b[0m\n\u001b[1;32m   1904\u001b[0m             \u001b[0;31m# nested tuple slicing\u001b[0m\u001b[0;34m\u001b[0m\u001b[0;34m\u001b[0m\u001b[0;34m\u001b[0m\u001b[0m\n",
      "\u001b[0;32m~/anaconda3/lib/python3.7/site-packages/pandas/core/indexing.py\u001b[0m in \u001b[0;36m_getitem_iterable\u001b[0;34m(self, key, axis)\u001b[0m\n\u001b[1;32m   1203\u001b[0m             \u001b[0;31m# A collection of keys\u001b[0m\u001b[0;34m\u001b[0m\u001b[0;34m\u001b[0m\u001b[0;34m\u001b[0m\u001b[0m\n\u001b[1;32m   1204\u001b[0m             keyarr, indexer = self._get_listlike_indexer(key, axis,\n\u001b[0;32m-> 1205\u001b[0;31m                                                          raise_missing=False)\n\u001b[0m\u001b[1;32m   1206\u001b[0m             return self.obj._reindex_with_indexers({axis: [keyarr, indexer]},\n\u001b[1;32m   1207\u001b[0m                                                    copy=True, allow_dups=True)\n",
      "\u001b[0;32m~/anaconda3/lib/python3.7/site-packages/pandas/core/indexing.py\u001b[0m in \u001b[0;36m_get_listlike_indexer\u001b[0;34m(self, key, axis, raise_missing)\u001b[0m\n\u001b[1;32m   1159\u001b[0m         self._validate_read_indexer(keyarr, indexer,\n\u001b[1;32m   1160\u001b[0m                                     \u001b[0mo\u001b[0m\u001b[0;34m.\u001b[0m\u001b[0m_get_axis_number\u001b[0m\u001b[0;34m(\u001b[0m\u001b[0maxis\u001b[0m\u001b[0;34m)\u001b[0m\u001b[0;34m,\u001b[0m\u001b[0;34m\u001b[0m\u001b[0;34m\u001b[0m\u001b[0m\n\u001b[0;32m-> 1161\u001b[0;31m                                     raise_missing=raise_missing)\n\u001b[0m\u001b[1;32m   1162\u001b[0m         \u001b[0;32mreturn\u001b[0m \u001b[0mkeyarr\u001b[0m\u001b[0;34m,\u001b[0m \u001b[0mindexer\u001b[0m\u001b[0;34m\u001b[0m\u001b[0;34m\u001b[0m\u001b[0m\n\u001b[1;32m   1163\u001b[0m \u001b[0;34m\u001b[0m\u001b[0m\n",
      "\u001b[0;32m~/anaconda3/lib/python3.7/site-packages/pandas/core/indexing.py\u001b[0m in \u001b[0;36m_validate_read_indexer\u001b[0;34m(self, key, indexer, axis, raise_missing)\u001b[0m\n\u001b[1;32m   1244\u001b[0m                 raise KeyError(\n\u001b[1;32m   1245\u001b[0m                     u\"None of [{key}] are in the [{axis}]\".format(\n\u001b[0;32m-> 1246\u001b[0;31m                         key=key, axis=self.obj._get_axis_name(axis)))\n\u001b[0m\u001b[1;32m   1247\u001b[0m \u001b[0;34m\u001b[0m\u001b[0m\n\u001b[1;32m   1248\u001b[0m             \u001b[0;31m# We (temporarily) allow for some missing keys with .loc, except in\u001b[0m\u001b[0;34m\u001b[0m\u001b[0;34m\u001b[0m\u001b[0;34m\u001b[0m\u001b[0m\n",
      "\u001b[0;31mKeyError\u001b[0m: \"None of [Index(['Mrs Cake'], dtype='object')] are in the [index]\""
     ]
    }
   ],
   "source": [
    "CharBookDF.loc[['Mrs Cake']]"
   ]
  }
 ]
}